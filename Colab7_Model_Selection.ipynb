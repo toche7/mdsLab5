{
  "cells": [
    {
      "cell_type": "markdown",
      "metadata": {
        "colab_type": "text",
        "id": "view-in-github"
      },
      "source": [
        "<a href=\"https://colab.research.google.com/github/toche7/mdsLab5/blob/main/Colab7_Model_Selection.ipynb\" target=\"_parent\"><img src=\"https://colab.research.google.com/assets/colab-badge.svg\" alt=\"Open In Colab\"/></a>"
      ]
    },
    {
      "cell_type": "markdown",
      "metadata": {
        "collapsed": false,
        "id": "_DEiGTgMzPHU"
      },
      "source": [
        "# Colab. 7 Model Development"
      ]
    },
    {
      "cell_type": "markdown",
      "metadata": {
        "collapsed": false,
        "id": "7pav90xkzPHY"
      },
      "source": [
        "ขั้นตอนในการทำพัฒนาแบบจำลองสามารถแบ่งได้ 2 ขั้นตอนดังนี้\n",
        "\n",
        "1. ขั้นตอนการประเมินแบบจำลอง \\(Model Validation\\)\n",
        "2. ขั้นตอนการคัดเลือกแบบจำลอง \\(Model Selection\\)\n",
        "\n"
      ]
    },
    {
      "cell_type": "markdown",
      "metadata": {
        "collapsed": false,
        "id": "2TsQhyMEzPHY"
      },
      "source": [
        "## 7.1 Model Validation"
      ]
    },
    {
      "cell_type": "markdown",
      "metadata": {
        "collapsed": false,
        "id": "P9XxNzyczPHY"
      },
      "source": [
        "ในการประเมินแบบจำลอง หมายถึงกระบวนการในการวัดประสิทธิภาพของแบบจำลอง เพื่อที่จะใช้ในกระบวนการคัดเลือกหรือเปรียบเทียบประสิทธิภาพระหว่างแบบจำลองซึ่งสามารถทำได้สองวิธีดังนี้\n",
        "\n",
        "1. Hold\\-Out Method\n",
        "2. Cross\\-Validation Method\n",
        "\n",
        "https://scikit-learn.org/stable/modules/cross_validation.html\n"
      ]
    },
    {
      "cell_type": "markdown",
      "metadata": {
        "collapsed": false,
        "id": "u5LBdO6LzPHZ"
      },
      "source": [
        "### 7.1.1 Hold\\-Out Method\n",
        "\n"
      ]
    },
    {
      "cell_type": "markdown",
      "metadata": {
        "collapsed": false,
        "id": "tL1R2vBVzPHZ"
      },
      "source": [
        "![](https://miro.medium.com/v2/resize:fit:720/format:webp/1*iZpmWiVeFn0bcuMZ_yiEdw.jpeg)\n"
      ]
    },
    {
      "cell_type": "markdown",
      "metadata": {
        "id": "b9X2k4Kw9BVE"
      },
      "source": []
    },
    {
      "cell_type": "markdown",
      "metadata": {
        "id": "Y-lYBynpCI9-"
      },
      "source": [
        "Theory\n",
        "\n",
        "https://scikit-learn.org/stable/modules/cross_validation.html#cross-validation\n",
        "\n",
        "Library\n",
        "\n",
        "https://scikit-learn.org/stable/modules/generated/sklearn.model_selection.train_test_split.html#\n"
      ]
    },
    {
      "cell_type": "markdown",
      "metadata": {
        "id": "-hOxUU2691gx"
      },
      "source": [
        "\n",
        "\n",
        "```python\n",
        "from sklearn.model_selection import train_test_split\n",
        "\n",
        "X_train, X_test, y_train, y_test = train_test_split(X, y, test_size=0.4, random_state=0)\n",
        "\n",
        "```\n",
        "\n",
        "\n"
      ]
    },
    {
      "cell_type": "markdown",
      "metadata": {
        "id": "XVBljVy8-22y"
      },
      "source": [
        "ตัวแปรสำคัญในการใช้คำสั่ง\n",
        "* *arrarys: ข้อมูลที่ใช้ในการแบ่งสามารถใส่เข้ามาหลายๆ ชุดพร้อมกัน ได้\n",
        "* test_size: float หรือ int, default = None, ถ้าเป็น 0.0-1 ก็จะทำการแบ่งข้อมูลไปตามขนาดสัดส่วนของ test_size และส่วนที่เหลือจะไปเป็น train set ถ้าเป็นจำนวนเต็มก็จะหมายถึงค่าจำนวนข้อมูลที่จะแบ่งไป   แต่ถ้าเป็น None ก็จะกำหนดให้กำหนดเป็น 0.25\n",
        "* train_size: float หรือ int, default = None, จะเป็นข้อมูลส่วนจะนำไปฝึกแบบจำลอง โดยจะเป็นแบ่งตามค่า float ที่กำหนด ถ้าเป็นเลขจำนวนเต็มก็จะกำหนดค่าตามนั้น ถ้าเป็น none ก็จะใช้ส่วนที่เหลือจาก test set มาใช้\n",
        "* random_state: int, default = None, กำหนดค่า seed ให้กับตัวกำสร้าง random โดยค่านี้จะถูกใช้ในการทำ  shuffle ข้อมูลที่จะทำก่อนการแบ่ง\n",
        "\n",
        "\n",
        "โดยจะส่งค่ากลับมา list ที่แบ่งออกเป็นสองส่วนแล้ว"
      ]
    },
    {
      "cell_type": "markdown",
      "metadata": {
        "id": "4HWKxYItEa1U"
      },
      "source": [
        "### Example 1"
      ]
    },
    {
      "cell_type": "code",
      "execution_count": null,
      "metadata": {
        "id": "Cq8TB11UDJbV"
      },
      "outputs": [],
      "source": [
        "import numpy as np\n",
        "from sklearn.model_selection import train_test_split\n"
      ]
    },
    {
      "cell_type": "code",
      "execution_count": null,
      "metadata": {
        "colab": {
          "base_uri": "https://localhost:8080/"
        },
        "id": "3a0YDeJwEige",
        "outputId": "c31714f6-69a7-4623-893f-4a2cb1315e09"
      },
      "outputs": [],
      "source": [
        "X, y = np.arange(10).reshape((5, 2)), range(5)\n",
        "X"
      ]
    },
    {
      "cell_type": "code",
      "execution_count": null,
      "metadata": {
        "colab": {
          "base_uri": "https://localhost:8080/"
        },
        "id": "-L1Nys3tDd70",
        "outputId": "795ab921-d9b4-4451-9312-2d2535973a10"
      },
      "outputs": [],
      "source": [
        "list(y)"
      ]
    },
    {
      "cell_type": "code",
      "execution_count": null,
      "metadata": {
        "id": "xGt3xVVWDgxM"
      },
      "outputs": [],
      "source": [
        "X_train, X_test, y_train, y_test = train_test_split(X,  y, test_size=0.33, random_state=42)"
      ]
    },
    {
      "cell_type": "code",
      "execution_count": null,
      "metadata": {
        "id": "PC9gSMRSu3MW"
      },
      "outputs": [],
      "source": []
    },
    {
      "cell_type": "code",
      "execution_count": null,
      "metadata": {
        "id": "UANM-XUku3JP"
      },
      "outputs": [],
      "source": []
    },
    {
      "cell_type": "code",
      "execution_count": null,
      "metadata": {
        "id": "Hg8ULhfvu3F1"
      },
      "outputs": [],
      "source": []
    },
    {
      "cell_type": "code",
      "execution_count": null,
      "metadata": {
        "id": "kNiLjlHqu3Cz"
      },
      "outputs": [],
      "source": []
    },
    {
      "cell_type": "markdown",
      "metadata": {
        "id": "yDKLuQkCENn2"
      },
      "source": [
        "### Example 2"
      ]
    },
    {
      "cell_type": "markdown",
      "metadata": {
        "id": "xFLN_5RHIqnf"
      },
      "source": [
        "* \"from\" จะให้กำหนดเป้าหมายในการดึง module ออกมา\n",
        "* \"import\" เป็นนำเข้า model เข้ามา\n",
        "* \"as\" เป็นการตั้งชื่อเล่น เพื่อจะเรียกให้ง่ายขึ้น\n",
        "\n",
        "\n",
        "``` python\n",
        "import sklearn as sk\n",
        "from sklearn.model_selection import train_test_split as tt\n",
        "```\n",
        "\n"
      ]
    },
    {
      "cell_type": "code",
      "execution_count": null,
      "metadata": {
        "colab": {
          "base_uri": "https://localhost:8080/"
        },
        "id": "BXYTBqa2zPHZ",
        "outputId": "1c21622f-65ca-4a29-9bda-c67e1b415d9f"
      },
      "outputs": [],
      "source": [
        "import numpy as np\n",
        "from sklearn.model_selection import train_test_split\n",
        "from sklearn import datasets\n",
        "from sklearn import svm\n",
        "\n",
        "X, y = datasets.load_iris(return_X_y=True)\n",
        "X.shape, y.shape"
      ]
    },
    {
      "cell_type": "code",
      "execution_count": null,
      "metadata": {
        "id": "rQUMh_blzPHb"
      },
      "outputs": [],
      "source": [
        "X_train, X_test, y_train, y_test = train_test_split(X, y, test_size=0.3, random_state=None)\n"
      ]
    },
    {
      "cell_type": "code",
      "execution_count": null,
      "metadata": {
        "colab": {
          "base_uri": "https://localhost:8080/"
        },
        "id": "MXA2OdkRLMDy",
        "outputId": "c7b0c01d-1afa-4521-febf-cc92c28cfc94"
      },
      "outputs": [],
      "source": [
        "X_train.shape, y_train.shape, X_test.shape, y_test.shape"
      ]
    },
    {
      "cell_type": "code",
      "execution_count": null,
      "metadata": {
        "colab": {
          "base_uri": "https://localhost:8080/"
        },
        "id": "xRFlVqt6LOsu",
        "outputId": "be108fd4-27cd-4164-f27b-4a8fe1eab752"
      },
      "outputs": [],
      "source": [
        "clf = svm.SVC(kernel='linear', C=1).fit(X_train, y_train)\n",
        "Acc = clf.score(X_test, y_test)\n",
        "\n",
        "print('size X_train: ', X_train.shape)\n",
        "print('size X_test: ', X_test.shape)\n",
        "print('Acc: %.4f' % Acc )"
      ]
    },
    {
      "cell_type": "code",
      "execution_count": null,
      "metadata": {
        "id": "KUOz0Lz4NG2V"
      },
      "outputs": [],
      "source": []
    },
    {
      "cell_type": "code",
      "execution_count": null,
      "metadata": {
        "id": "KJO7U7CRNGzd"
      },
      "outputs": [],
      "source": []
    },
    {
      "cell_type": "code",
      "execution_count": null,
      "metadata": {
        "id": "EWirRVYjNGwF"
      },
      "outputs": [],
      "source": []
    },
    {
      "cell_type": "code",
      "execution_count": null,
      "metadata": {
        "id": "2_zOFb3pNGsg"
      },
      "outputs": [],
      "source": []
    },
    {
      "cell_type": "markdown",
      "metadata": {
        "id": "BJxtRn5dNHcj"
      },
      "source": [
        "#### ผลกระทบของการ random state และขนาดของการแบ่งข้อมูล"
      ]
    },
    {
      "cell_type": "code",
      "execution_count": null,
      "metadata": {
        "colab": {
          "base_uri": "https://localhost:8080/"
        },
        "id": "WeMxKmlFL0Gl",
        "outputId": "eb429d1d-d014-4bdf-a289-10343ea0c04e"
      },
      "outputs": [],
      "source": [
        "n = 10\n",
        "size = 0.1\n",
        "X_train, X_test, y_train, y_test = train_test_split(X, y, test_size = size, random_state=None)\n",
        "print('size X_train: ', X_train.shape)\n",
        "print('size X_test: ', X_test.shape)\n",
        "for i in range(1,n):\n",
        "  X_train, X_test, y_train, y_test = train_test_split(X, y, test_size = size, random_state=None)\n",
        "  clf = svm.SVC(kernel='linear', C=1).fit(X_train, y_train)\n",
        "  Acc = clf.score(X_test, y_test)\n",
        "  print('Acc: %.4f' % Acc )\n"
      ]
    },
    {
      "cell_type": "markdown",
      "metadata": {
        "collapsed": false,
        "id": "KRdK6EfJzPHc"
      },
      "source": [
        "#### ทดลอง\n",
        "ทดลองปรับค่า  test_size ไปเป็น ค่าอื่น เช่น 0.3, 0.2, 0.1 และทดลองปรับค่า random_state = None'"
      ]
    },
    {
      "cell_type": "code",
      "execution_count": null,
      "metadata": {
        "id": "hLpZDArTzPHc"
      },
      "outputs": [],
      "source": []
    },
    {
      "cell_type": "code",
      "execution_count": null,
      "metadata": {
        "id": "gtUE85LUN-h5"
      },
      "outputs": [],
      "source": []
    },
    {
      "cell_type": "code",
      "execution_count": null,
      "metadata": {
        "id": "7-lynB6FN-eT"
      },
      "outputs": [],
      "source": []
    },
    {
      "cell_type": "code",
      "execution_count": null,
      "metadata": {
        "id": "127c5jRVN-aq"
      },
      "outputs": [],
      "source": []
    },
    {
      "cell_type": "markdown",
      "metadata": {
        "collapsed": false,
        "id": "N7iEThzxzPHc"
      },
      "source": []
    },
    {
      "cell_type": "markdown",
      "metadata": {
        "collapsed": false,
        "id": "lLzWIe2BzPHd"
      },
      "source": []
    },
    {
      "cell_type": "markdown",
      "metadata": {
        "collapsed": false,
        "id": "43Su1-aYzPHd"
      },
      "source": [
        "### 7.1.2 Cross\\-Validation Method\n",
        "\n"
      ]
    },
    {
      "cell_type": "markdown",
      "metadata": {
        "collapsed": false,
        "id": "Fd4WuCEwzPHd"
      },
      "source": [
        "![](https://www.section.io/engineering-education/how-to-implement-k-fold-cross-validation/5-fold-cv.jpeg)\n"
      ]
    },
    {
      "cell_type": "markdown",
      "metadata": {
        "id": "7z9t_RW6P4IG"
      },
      "source": [
        "Theory\n",
        "\n",
        "https://scikit-learn.org/stable/modules/cross_validation.html#cross-validation\n",
        "\n",
        "Library\n",
        "\n",
        "https://scikit-learn.org/stable/modules/generated/sklearn.model_selection.cross_val_score.html\n"
      ]
    },
    {
      "cell_type": "markdown",
      "metadata": {
        "id": "2y2eH4y8PhBM"
      },
      "source": [
        "\n",
        "\n",
        "``` python\n",
        "from sklearn.model_selection import cross_val_score\n",
        "scores = cross_val_score(modelObject, X, y, cv= 5, scoring = 'f1_macro')\n",
        "```\n",
        "\n"
      ]
    },
    {
      "cell_type": "markdown",
      "metadata": {
        "id": "uQ33q8ByR_cV"
      },
      "source": [
        "ตัวแปรแบบที่สำคัญ\n",
        "* modelObject คือตัว object ของ model ที่จะใช้ในการประเมิน\n",
        "* X,y คือชุดข้อมูลที่จะทำการประเมิน\n",
        "* cv คือจำนวนการแบ่งข้อมูลที่จะทำการ cross validation\n",
        "* scoring คือค่าการวัดที่จะทำการตรวจสอบด้วย cross validatoin โดยสามารถดูได้จาก  https://scikit-learn.org/stable/modules/model_evaluation.html#scoring-parameter"
      ]
    },
    {
      "cell_type": "markdown",
      "metadata": {
        "id": "NNVBUs-7TNbr"
      },
      "source": [
        "### Example 3"
      ]
    },
    {
      "cell_type": "code",
      "execution_count": null,
      "metadata": {
        "id": "YDXNoX8gzPHd"
      },
      "outputs": [],
      "source": [
        "from sklearn.model_selection import cross_val_score\n",
        "clf = svm.SVC(kernel='linear', C=1, random_state=42)\n"
      ]
    },
    {
      "cell_type": "code",
      "execution_count": null,
      "metadata": {
        "colab": {
          "base_uri": "https://localhost:8080/"
        },
        "id": "MHoA3eNvTZ2N",
        "outputId": "a45d9317-e297-4c10-e525-bf18bd1db855"
      },
      "outputs": [],
      "source": [
        "scores = cross_val_score(clf, X, y, cv=5)\n",
        "scores"
      ]
    },
    {
      "cell_type": "code",
      "execution_count": null,
      "metadata": {
        "colab": {
          "base_uri": "https://localhost:8080/"
        },
        "id": "A81SZmBGzPHe",
        "outputId": "4006a5b6-4ab9-4a7a-ddb7-06929da85f72"
      },
      "outputs": [],
      "source": [
        "print(\"%0.2f accuracy with a standard deviation of %0.2f\" % (scores.mean(), scores.std()))"
      ]
    },
    {
      "cell_type": "code",
      "execution_count": null,
      "metadata": {
        "id": "QVEKfI3cUKWW"
      },
      "outputs": [],
      "source": []
    },
    {
      "cell_type": "code",
      "execution_count": null,
      "metadata": {
        "id": "GISU4cYjUKSy"
      },
      "outputs": [],
      "source": []
    },
    {
      "cell_type": "code",
      "execution_count": null,
      "metadata": {
        "id": "kHQOeM6VUKPY"
      },
      "outputs": [],
      "source": []
    },
    {
      "cell_type": "markdown",
      "metadata": {
        "id": "Q71kPwUSUMn9"
      },
      "source": [
        "ทดลองเปลี่ยนค่า scoring"
      ]
    },
    {
      "cell_type": "code",
      "execution_count": null,
      "metadata": {
        "colab": {
          "base_uri": "https://localhost:8080/"
        },
        "id": "1cW-pATFzPHe",
        "outputId": "99223945-eff4-4328-8d50-07f2f303f0fc"
      },
      "outputs": [],
      "source": [
        "scores = cross_val_score(clf, X, y, cv=5, scoring='f1_macro')  # defined the score types\n",
        "scores"
      ]
    },
    {
      "cell_type": "markdown",
      "metadata": {
        "collapsed": false,
        "id": "sjlnMdDJzPHe"
      },
      "source": [
        "#### ทดลอง\n",
        "ทดลองปรับค่า fold  (cv) ไปเป็น 10 fold ให้  score เป็น ‘precision’  แบบ  micro average แล้วทำการวัดผลอีกครั้ง\n",
        "\n",
        "https://scikit-learn.org/stable/modules/model_evaluation.html#scoring-parameter"
      ]
    },
    {
      "cell_type": "code",
      "execution_count": null,
      "metadata": {
        "id": "ddImB4g_UYm-"
      },
      "outputs": [],
      "source": []
    },
    {
      "cell_type": "code",
      "execution_count": null,
      "metadata": {
        "id": "U9VSPlBhUZdz"
      },
      "outputs": [],
      "source": []
    },
    {
      "cell_type": "code",
      "execution_count": null,
      "metadata": {
        "id": "omAGEncKzPHe"
      },
      "outputs": [],
      "source": [
        "\n"
      ]
    },
    {
      "cell_type": "markdown",
      "metadata": {
        "collapsed": false,
        "id": "olxSQiEozPHf"
      },
      "source": [
        "โดยหลักการแล้วนั้น  Cross\\-Validation จะให้ความน่าเชื่อถือมากกว่าการใช้ Hold\\-Out Method  ส่วนวิธีการ Hold\\-Out Method ก็จะมีข้อดีในเรื่องของความเร็วในการประมวลผล โดยส่วนใหญ่แล้วถ้าการทดสอบไหนที่แบบจำลองมีขนาดใหญ่ หรือปริมาณข้อมูลขนาดใหญ่เราจะนิยมใช้เป็น Hold\\-Out Method เช่นงานทางด้าน image processing และ  NLP เป็นต้น  ส่วนการทดลองใดที่สามารถทำได้เร็วก็จะนิยมทำด้วยวิธี Cross\\-Validation\n",
        "\n"
      ]
    },
    {
      "cell_type": "code",
      "execution_count": null,
      "metadata": {
        "id": "0t0lcfNGzPHf"
      },
      "outputs": [],
      "source": []
    },
    {
      "cell_type": "markdown",
      "metadata": {
        "collapsed": false,
        "id": "TVJKkfXDzPHf"
      },
      "source": []
    },
    {
      "cell_type": "markdown",
      "metadata": {
        "collapsed": false,
        "id": "fXokooRqzPHf"
      },
      "source": [
        "## 7.2 Model Selection"
      ]
    },
    {
      "cell_type": "markdown",
      "metadata": {
        "collapsed": false,
        "id": "DDOg2Lo6zPHf"
      },
      "source": [
        "ในข้อมูลชุดหนึ่งนั้นเราสามารถที่จะสร้างแบบจำลองได้หลายประเภท โดยในแต่ละประเภทเราสามารถสร้างแบบจำลองที่แตกต่างด้วยการปรับพารามิเตอร์ที่เกี่ยวข้องให้แตกต่างกันออกไป สิ่งที่ได้ก็คือเราจะได้โมเดลที่มีประสิทธิภาพแตกต่างกันหลังจากนั้นเราจะเลือกเอาโมเดลที่มีประสิทธิภาพมากที่สุดไปใช้งาน\n",
        "\n",
        "Hyperparameter Turing หมายถึงกระบวนการปรับพารามิเตอร์ที่เกี่ยวข้องเพื่อให้ได้ประสิทธิภาพมากที่สุด โดยจะต้องมีการทดสอบพารามิเตอร์ที่แตกต่างกันแล้วเอาค่าที่ดีที่สุดไปใช้งาน\n",
        "\n",
        "https://scikit-learn.org/stable/modules/grid_search.html\n",
        "\n",
        "การเลือกแบบจำลองนอกจากจะเลือกจากแบบจำลองชนิดเดียวกันแล้วเรายังจะต้องเปรียบเทียบแบบจำลองที่เป็นคนละชนิดกันโดยจะเปรียบเทียบแบบจำลองที่แตกต่างกันที่มีการเลือกพารามิเตอร์ที่ดีที่สุดออกมาแล้ว"
      ]
    },
    {
      "cell_type": "markdown",
      "metadata": {
        "id": "KqDJ42IXaiGu"
      },
      "source": [
        "Theory\n",
        "\n",
        "https://scikit-learn.org/stable/modules/grid_search.html#grid-search\n",
        "\n",
        "\n",
        "Library\n",
        "\n",
        "https://scikit-learn.org/stable/modules/generated/sklearn.model_selection.GridSearchCV.html#sklearn.model_selection.GridSearchCV\n",
        "\n"
      ]
    },
    {
      "cell_type": "markdown",
      "metadata": {
        "id": "gFGo489qWa3s"
      },
      "source": [
        "\n",
        "\n",
        "```python\n",
        "from sklearn.model_selection import GridSearchCV\n",
        "gridSearch = GridSearchCV(modelObject, parameters, cv = 5)\n",
        "gridSearch.fit(X, y)\n",
        "\n",
        "```\n",
        "\n"
      ]
    },
    {
      "cell_type": "markdown",
      "metadata": {
        "id": "OQEH_dKJYToB"
      },
      "source": [
        "| Method | Description |\n",
        "| :------------ | :---------------------------------------------------------- |\n",
        "| fit\\(X, y \\) | Fit the model according to the given training data. |\n"
      ]
    },
    {
      "cell_type": "markdown",
      "metadata": {
        "id": "wDbn6lGUWamy"
      },
      "source": [
        "ตัวแปรแบบที่สำคัญ\n",
        "* modelObject คือตัว object ของ model ที่จะใช้ในการประเมิน\n",
        "* X,y คือชุดข้อมูลที่จะทำการประเมิน\n",
        "* cv คือจำนวนการแบ่งข้อมูลที่จะทำการ cross validation\n",
        "* scoring คือค่าการวัดที่จะทำการตรวจสอบด้วย cross\n",
        "* parameters เป็น dictionary ของตัวแปรที่จะนำไปทำการค้นหา"
      ]
    },
    {
      "cell_type": "markdown",
      "metadata": {
        "collapsed": false,
        "id": "_PJTRKTWzPHf"
      },
      "source": [
        "### Example 4\n",
        "Grid Search Cross-Validation with Support Vector Machine"
      ]
    },
    {
      "cell_type": "code",
      "execution_count": null,
      "metadata": {
        "colab": {
          "base_uri": "https://localhost:8080/"
        },
        "id": "qRE12BoCzPHf",
        "outputId": "53f43a88-3878-4832-e7c5-0fe7ae56a31a"
      },
      "outputs": [],
      "source": [
        "from sklearn import svm, datasets\n",
        "from sklearn.model_selection import GridSearchCV\n",
        "X,y = datasets.load_iris(return_X_y=True)\n",
        "\n",
        "parameters = {'kernel':['linear', 'rbf'], 'C':[1,2,3,4]}\n",
        "\n",
        "svc = svm.SVC()\n",
        "\n",
        "gS = GridSearchCV(svc, parameters, cv = 5, scoring =  None)\n",
        "gS.fit(X, y)\n",
        "sorted(gS.cv_results_.keys())"
      ]
    },
    {
      "cell_type": "code",
      "execution_count": null,
      "metadata": {
        "colab": {
          "base_uri": "https://localhost:8080/"
        },
        "id": "ta5IIM2kzPHg",
        "outputId": "c7d5a6c8-4c2f-4aee-fd9f-1732ec466ca2"
      },
      "outputs": [],
      "source": [
        "gS.cv_results_"
      ]
    },
    {
      "cell_type": "code",
      "execution_count": null,
      "metadata": {
        "colab": {
          "base_uri": "https://localhost:8080/",
          "height": 95
        },
        "id": "JIyA81cfViDf",
        "outputId": "80bab647-71cc-4566-8006-1f278a545cb5"
      },
      "outputs": [],
      "source": [
        "gS.best_estimator_"
      ]
    },
    {
      "cell_type": "code",
      "execution_count": null,
      "metadata": {
        "colab": {
          "base_uri": "https://localhost:8080/"
        },
        "id": "uHCkGFBwVh-A",
        "outputId": "5d0795d3-a5c3-451d-8436-d6922f9af750"
      },
      "outputs": [],
      "source": [
        "gS.best_score_"
      ]
    },
    {
      "cell_type": "code",
      "execution_count": null,
      "metadata": {
        "colab": {
          "base_uri": "https://localhost:8080/"
        },
        "id": "1djNo5VWVh6q",
        "outputId": "722b4ad9-aaed-4ea1-bfe2-4a983262cf82"
      },
      "outputs": [],
      "source": [
        "gS.best_params_"
      ]
    },
    {
      "cell_type": "code",
      "execution_count": null,
      "metadata": {
        "colab": {
          "base_uri": "https://localhost:8080/"
        },
        "id": "QdZXW5XJVh3R",
        "outputId": "af5f1358-a7e6-4293-b142-2e89d01003aa"
      },
      "outputs": [],
      "source": [
        "gS.best_estimator_.predict(X)"
      ]
    },
    {
      "cell_type": "code",
      "execution_count": null,
      "metadata": {
        "colab": {
          "base_uri": "https://localhost:8080/"
        },
        "id": "lZuDZyhu6eNZ",
        "outputId": "e390734d-0c76-4ca7-bff7-1ff7c3c17399"
      },
      "outputs": [],
      "source": [
        "gS.best_estimator_.score(X,y)"
      ]
    },
    {
      "cell_type": "code",
      "execution_count": null,
      "metadata": {
        "id": "GghBOBqczPHg"
      },
      "outputs": [],
      "source": [
        "import matplotlib.pyplot as plt\n",
        "import numpy as np"
      ]
    },
    {
      "cell_type": "code",
      "execution_count": null,
      "metadata": {
        "colab": {
          "base_uri": "https://localhost:8080/",
          "height": 473
        },
        "id": "hhmQvW63zPHg",
        "outputId": "a17f8a46-7898-4199-814f-5e2dd8e9088e"
      },
      "outputs": [],
      "source": [
        "plt.bar(np.arange(1,9), gS.cv_results_['mean_test_score'])\n",
        "plt.ylim(0.9, 1)"
      ]
    },
    {
      "cell_type": "markdown",
      "metadata": {
        "collapsed": false,
        "id": "znTvUA4hzPHh"
      },
      "source": []
    },
    {
      "cell_type": "code",
      "execution_count": null,
      "metadata": {
        "id": "3dUT_Je8bQNM"
      },
      "outputs": [],
      "source": []
    },
    {
      "cell_type": "markdown",
      "metadata": {
        "id": "Y60PJgWe3-T1"
      },
      "source": [
        "## Example 5"
      ]
    },
    {
      "cell_type": "markdown",
      "metadata": {
        "id": "eekVxWsu4QZE"
      },
      "source": [
        "Grid Search Cross-Validation with Decision Tree Model"
      ]
    },
    {
      "cell_type": "code",
      "execution_count": null,
      "metadata": {
        "id": "Y5lR7gyJzPHh"
      },
      "outputs": [],
      "source": [
        "from sklearn import datasets\n",
        "from sklearn.tree import DecisionTreeClassifier\n",
        "from sklearn.model_selection import GridSearchCV\n",
        "X,y = datasets.load_iris(return_X_y= True)\n"
      ]
    },
    {
      "cell_type": "code",
      "execution_count": null,
      "metadata": {
        "id": "wBUUfGd85Yw8"
      },
      "outputs": [],
      "source": [
        "parameters = {'criterion':['gini', 'entropy', 'log_loss'], 'max_depth':[2,3,4,5,6,7,8,9,10]}\n",
        "mTree =  DecisionTreeClassifier()"
      ]
    },
    {
      "cell_type": "code",
      "execution_count": null,
      "metadata": {
        "id": "ri12cyNV5iAB"
      },
      "outputs": [],
      "source": [
        "gS = GridSearchCV(mTree, parameters, cv = 5)"
      ]
    },
    {
      "cell_type": "code",
      "execution_count": null,
      "metadata": {
        "colab": {
          "base_uri": "https://localhost:8080/"
        },
        "id": "wRBnxGkM5dXY",
        "outputId": "d4b3eb2b-5def-40c1-b7cb-1a1635e61eb6"
      },
      "outputs": [],
      "source": [
        "gS.fit(X,y)\n",
        "sorted(gS.cv_results_.keys())"
      ]
    },
    {
      "cell_type": "code",
      "execution_count": null,
      "metadata": {
        "colab": {
          "base_uri": "https://localhost:8080/"
        },
        "id": "qcJdY8MZzPHh",
        "outputId": "9770dafd-6009-4d54-b943-a41a8b06a9e8"
      },
      "outputs": [],
      "source": [
        "gS.cv_results_['mean_test_score']"
      ]
    },
    {
      "cell_type": "code",
      "execution_count": null,
      "metadata": {
        "colab": {
          "base_uri": "https://localhost:8080/"
        },
        "id": "FiDc0xJszPHi",
        "outputId": "798d1bcc-be1c-45cc-c6bf-12b403745a27"
      },
      "outputs": [],
      "source": [
        "gS.cv_results_['params']"
      ]
    },
    {
      "cell_type": "code",
      "execution_count": null,
      "metadata": {
        "colab": {
          "base_uri": "https://localhost:8080/"
        },
        "id": "ef95sIOPzPHi",
        "outputId": "2272243a-0e7c-4f5b-d76a-ac1f58106bfd"
      },
      "outputs": [],
      "source": [
        "gS.cv_results_['rank_test_score']"
      ]
    },
    {
      "cell_type": "code",
      "execution_count": null,
      "metadata": {
        "colab": {
          "base_uri": "https://localhost:8080/",
          "height": 473
        },
        "id": "RzUwLJ1WzPHi",
        "outputId": "cc5c23d0-cbe0-4224-e780-e338c1ed51d2"
      },
      "outputs": [],
      "source": [
        "import matplotlib.pyplot as plt\n",
        "plt.bar(np.arange(1,28), gS.cv_results_['mean_test_score'])\n",
        "plt.ylim(0.9, 1)"
      ]
    },
    {
      "cell_type": "code",
      "execution_count": null,
      "metadata": {
        "colab": {
          "base_uri": "https://localhost:8080/",
          "height": 95
        },
        "id": "xNFAmnoNzPHj",
        "outputId": "e2233702-7602-4714-cbd6-55bdbd5deee7"
      },
      "outputs": [],
      "source": [
        "gS.best_estimator_"
      ]
    },
    {
      "cell_type": "code",
      "execution_count": null,
      "metadata": {
        "colab": {
          "base_uri": "https://localhost:8080/"
        },
        "id": "H-rwbXnQ3azs",
        "outputId": "c245e131-c5a9-4f61-fe00-ef5dc3a3526f"
      },
      "outputs": [],
      "source": [
        "gS.best_params_"
      ]
    },
    {
      "cell_type": "code",
      "execution_count": null,
      "metadata": {
        "colab": {
          "base_uri": "https://localhost:8080/"
        },
        "id": "3pidshj_3igD",
        "outputId": "4be91629-cb81-461f-a349-90b71efe3004"
      },
      "outputs": [],
      "source": [
        "gS.best_score_"
      ]
    },
    {
      "cell_type": "code",
      "execution_count": null,
      "metadata": {
        "colab": {
          "base_uri": "https://localhost:8080/"
        },
        "id": "XwEwaC313jyR",
        "outputId": "19903644-6fc8-4983-8867-e6d3718ac61b"
      },
      "outputs": [],
      "source": [
        "gS.best_estimator_.score(X,y)"
      ]
    },
    {
      "cell_type": "markdown",
      "metadata": {
        "collapsed": false,
        "id": "ZKt0Qt42zPHj"
      },
      "source": [
        "#### ตอบคำถาม\n",
        "จากการทดลองนี้ model ใดดีที่สุด"
      ]
    },
    {
      "cell_type": "markdown",
      "metadata": {
        "collapsed": false,
        "id": "Jp9TdXu_zPHj"
      },
      "source": []
    },
    {
      "cell_type": "markdown",
      "metadata": {
        "collapsed": false,
        "id": "JnzfSIAhzPHj"
      },
      "source": []
    },
    {
      "cell_type": "markdown",
      "metadata": {
        "collapsed": false,
        "id": "x_u3Otv5zPHk"
      },
      "source": [
        "## Exercise 1"
      ]
    },
    {
      "cell_type": "markdown",
      "metadata": {},
      "source": [
        "สร้าง Model 3 ประเภท ประกอบด้วย Decision Tree, Neural Network, KNN \n",
        "ทำการปรับปจูน prarameter ของทั้ง 3 model ให้มีค่าสูงกว่า 0.92 \n",
        "ทำการเลือกว่า model ใดที่สุด"
      ]
    },
    {
      "cell_type": "code",
      "execution_count": null,
      "metadata": {
        "colab": {
          "base_uri": "https://localhost:8080/"
        },
        "id": "BkZvd3nHzPHk",
        "outputId": "93d8b9f8-8ec0-4ad7-82fc-4e6c5b3768b5"
      },
      "outputs": [],
      "source": [
        "from sklearn import datasets\n",
        "from sklearn.model_selection import GridSearchCV\n",
        "\n",
        "X,y = datasets.load_breast_cancer(return_X_y=True)\n",
        "X.shape, y.shape"
      ]
    },
    {
      "cell_type": "code",
      "execution_count": null,
      "metadata": {
        "id": "8q1HjXORzPHl"
      },
      "outputs": [],
      "source": []
    },
    {
      "cell_type": "code",
      "execution_count": null,
      "metadata": {
        "id": "RiFDwz6WzPHl"
      },
      "outputs": [],
      "source": []
    },
    {
      "cell_type": "code",
      "execution_count": null,
      "metadata": {
        "id": "4qKQjRWVzPHl"
      },
      "outputs": [],
      "source": []
    },
    {
      "cell_type": "code",
      "execution_count": null,
      "metadata": {
        "id": "UenK2GBIzPHl"
      },
      "outputs": [],
      "source": []
    },
    {
      "cell_type": "code",
      "execution_count": null,
      "metadata": {
        "id": "cwgtbaHDzPHm"
      },
      "outputs": [],
      "source": []
    },
    {
      "cell_type": "code",
      "execution_count": null,
      "metadata": {
        "colab": {
          "base_uri": "https://localhost:8080/",
          "height": 1000
        },
        "id": "H0uK01L1zPHm",
        "outputId": "9f0d44fa-3139-4ab7-9b14-3768e5239b14"
      },
      "outputs": [],
      "source": []
    },
    {
      "cell_type": "code",
      "execution_count": null,
      "metadata": {
        "colab": {
          "base_uri": "https://localhost:8080/"
        },
        "id": "A1sfmrmyzPHm",
        "outputId": "c32f1e3b-dd5c-474e-bf26-914df79a28d0"
      },
      "outputs": [],
      "source": []
    },
    {
      "cell_type": "code",
      "execution_count": null,
      "metadata": {
        "colab": {
          "base_uri": "https://localhost:8080/"
        },
        "id": "evnFXzKn7OYg",
        "outputId": "c278dbcb-06a4-4fea-cffb-72b8058dce3f"
      },
      "outputs": [],
      "source": []
    },
    {
      "cell_type": "code",
      "execution_count": null,
      "metadata": {
        "id": "gm-EHZeG8wJF"
      },
      "outputs": [],
      "source": []
    }
  ],
  "metadata": {
    "colab": {
      "include_colab_link": true,
      "provenance": []
    },
    "kernelspec": {
      "argv": [
        "/usr/bin/python3",
        "-m",
        "ipykernel",
        "--HistoryManager.enabled=False",
        "--matplotlib=inline",
        "-c",
        "%config InlineBackend.figure_formats = set(['retina'])\nimport matplotlib; matplotlib.rcParams['figure.figsize'] = (12, 7)",
        "-f",
        "{connection_file}"
      ],
      "display_name": "Python 3 (system-wide)",
      "env": {},
      "language": "python",
      "metadata": {
        "cocalc": {
          "description": "Python 3 programming language",
          "priority": 100,
          "url": "https://www.python.org/"
        }
      },
      "name": "python3",
      "resource_dir": "/ext/jupyter/kernels/python3"
    },
    "language_info": {
      "codemirror_mode": {
        "name": "ipython",
        "version": 3
      },
      "file_extension": ".py",
      "mimetype": "text/x-python",
      "name": "python",
      "nbconvert_exporter": "python",
      "pygments_lexer": "ipython3",
      "version": "3.10.13"
    }
  },
  "nbformat": 4,
  "nbformat_minor": 0
}
