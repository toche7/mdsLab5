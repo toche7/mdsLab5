{
  "cells": [
    {
      "cell_type": "markdown",
      "metadata": {
        "id": "view-in-github",
        "colab_type": "text"
      },
      "source": [
        "<a href=\"https://colab.research.google.com/github/toche7/mdsLab5/blob/main/Colab7_Model_Selection.ipynb\" target=\"_parent\"><img src=\"https://colab.research.google.com/assets/colab-badge.svg\" alt=\"Open In Colab\"/></a>"
      ]
    },
    {
      "cell_type": "markdown",
      "metadata": {
        "collapsed": false,
        "id": "_DEiGTgMzPHU"
      },
      "source": [
        "# Lab. 7 Model Development"
      ]
    },
    {
      "cell_type": "markdown",
      "metadata": {
        "collapsed": false,
        "id": "7pav90xkzPHY"
      },
      "source": [
        "ขั้นตอนในการทำพัฒนาแบบจำลองสามารถแบ่งได้ 2 ขั้นตอนดังนี้\n",
        "\n",
        "1. ขั้นตอนการประเมินแบบจำลอง \\(Model Validation\\)\n",
        "2. ขั้นตอนการคัดเลือกแบบจำลอง \\(Model Selection\\)\n",
        "\n"
      ]
    },
    {
      "cell_type": "markdown",
      "metadata": {
        "collapsed": false,
        "id": "2TsQhyMEzPHY"
      },
      "source": [
        "## 7.1 Model Validation"
      ]
    },
    {
      "cell_type": "markdown",
      "metadata": {
        "collapsed": false,
        "id": "P9XxNzyczPHY"
      },
      "source": [
        "ในการประเมินแบบจำลอง หมายถึงกระบวนการในการวัดประสิทธิภาพของแบบจำลอง เพื่อที่จะใช้ในกระบวนการคัดเลือกหรือเปรียบเทียบประสิทธิภาพระหว่างแบบจำลองซึ่งสามารถทำได้สองวิธีดังนี้\n",
        "\n",
        "1. Hold\\-Out Method\n",
        "2. Cross\\-Validation Method\n",
        "\n",
        "https://scikit-learn.org/stable/modules/cross_validation.html\n"
      ]
    },
    {
      "cell_type": "markdown",
      "metadata": {
        "collapsed": false,
        "id": "u5LBdO6LzPHZ"
      },
      "source": [
        "### 7.1.1 Hold\\-Out Method\n",
        "\n"
      ]
    },
    {
      "cell_type": "markdown",
      "metadata": {
        "collapsed": false,
        "id": "tL1R2vBVzPHZ"
      },
      "source": [
        "![](https://miro.medium.com/v2/resize:fit:720/format:webp/1*iZpmWiVeFn0bcuMZ_yiEdw.jpeg)\n"
      ]
    },
    {
      "cell_type": "markdown",
      "source": [],
      "metadata": {
        "id": "b9X2k4Kw9BVE"
      }
    },
    {
      "cell_type": "markdown",
      "source": [
        "Theory\n",
        "\n",
        "https://scikit-learn.org/stable/modules/cross_validation.html#cross-validation\n",
        "\n",
        "Library\n",
        "\n",
        "https://scikit-learn.org/stable/modules/generated/sklearn.model_selection.train_test_split.html#\n"
      ],
      "metadata": {
        "id": "Y-lYBynpCI9-"
      }
    },
    {
      "cell_type": "markdown",
      "source": [
        "\n",
        "\n",
        "```python\n",
        "from sklearn.model_selection import train_test_split\n",
        "\n",
        "X_train, X_test, y_train, y_test = train_test_split(X, y, test_size=0.4, random_state=0)\n",
        "\n",
        "```\n",
        "\n",
        "\n"
      ],
      "metadata": {
        "id": "-hOxUU2691gx"
      }
    },
    {
      "cell_type": "markdown",
      "source": [
        "ตัวแปรสำคัญในการใช้คำสั่ง\n",
        "* *arrarys: ข้อมูลที่ใช้ในการแบ่งสามารถใส่เข้ามาหลายๆ ชุดพร้อมกัน ได้\n",
        "* test_size: float หรือ int, default = None, ถ้าเป็น 0.0-1 ก็จะทำการแบ่งข้อมูลไปตามขนาดสัดส่วนของ test_size และส่วนที่เหลือจะไปเป็น train set ถ้าเป็นจำนวนเต็มก็จะหมายถึงค่าจำนวนข้อมูลที่จะแบ่งไป   แต่ถ้าเป็น None ก็จะกำหนดให้กำหนดเป็น 0.25\n",
        "* train_size: float หรือ int, default = None, จะเป็นข้อมูลส่วนจะนำไปฝึกแบบจำลอง โดยจะเป็นแบ่งตามค่า float ที่กำหนด ถ้าเป็นเลขจำนวนเต็มก็จะกำหนดค่าตามนั้น ถ้าเป็น none ก็จะใช้ส่วนที่เหลือจาก test set มาใช้\n",
        "* random_state: int, default = None, กำหนดค่า seed ให้กับตัวกำสร้าง random โดยค่านี้จะถูกใช้ในการทำ  shuffle ข้อมูลที่จะทำก่อนการแบ่ง\n",
        "\n",
        "\n",
        "โดยจะส่งค่ากลับมา list ที่แบ่งออกเป็นสองส่วนแล้ว"
      ],
      "metadata": {
        "id": "XVBljVy8-22y"
      }
    },
    {
      "cell_type": "markdown",
      "source": [
        "### Example 1"
      ],
      "metadata": {
        "id": "4HWKxYItEa1U"
      }
    },
    {
      "cell_type": "code",
      "source": [
        "import numpy as np\n",
        "from sklearn.model_selection import train_test_split\n"
      ],
      "metadata": {
        "id": "Cq8TB11UDJbV"
      },
      "execution_count": null,
      "outputs": []
    },
    {
      "cell_type": "code",
      "source": [
        "X, y = np.arange(10).reshape((5, 2)), range(5)\n",
        "X"
      ],
      "metadata": {
        "colab": {
          "base_uri": "https://localhost:8080/"
        },
        "id": "3a0YDeJwEige",
        "outputId": "c31714f6-69a7-4623-893f-4a2cb1315e09"
      },
      "execution_count": null,
      "outputs": [
        {
          "output_type": "execute_result",
          "data": {
            "text/plain": [
              "array([[0, 1],\n",
              "       [2, 3],\n",
              "       [4, 5],\n",
              "       [6, 7],\n",
              "       [8, 9]])"
            ]
          },
          "metadata": {},
          "execution_count": 2
        }
      ]
    },
    {
      "cell_type": "code",
      "source": [
        "list(y)"
      ],
      "metadata": {
        "colab": {
          "base_uri": "https://localhost:8080/"
        },
        "id": "-L1Nys3tDd70",
        "outputId": "795ab921-d9b4-4451-9312-2d2535973a10"
      },
      "execution_count": null,
      "outputs": [
        {
          "output_type": "execute_result",
          "data": {
            "text/plain": [
              "[0, 1, 2, 3, 4]"
            ]
          },
          "metadata": {},
          "execution_count": 3
        }
      ]
    },
    {
      "cell_type": "code",
      "source": [
        "X_train, X_test, y_train, y_test = train_test_split(X,  y, test_size=0.33, random_state=42)"
      ],
      "metadata": {
        "id": "xGt3xVVWDgxM"
      },
      "execution_count": null,
      "outputs": []
    },
    {
      "cell_type": "code",
      "source": [],
      "metadata": {
        "id": "PC9gSMRSu3MW"
      },
      "execution_count": null,
      "outputs": []
    },
    {
      "cell_type": "code",
      "source": [],
      "metadata": {
        "id": "UANM-XUku3JP"
      },
      "execution_count": null,
      "outputs": []
    },
    {
      "cell_type": "code",
      "source": [],
      "metadata": {
        "id": "Hg8ULhfvu3F1"
      },
      "execution_count": null,
      "outputs": []
    },
    {
      "cell_type": "code",
      "source": [],
      "metadata": {
        "id": "kNiLjlHqu3Cz"
      },
      "execution_count": null,
      "outputs": []
    },
    {
      "cell_type": "markdown",
      "source": [
        "### Example 2"
      ],
      "metadata": {
        "id": "yDKLuQkCENn2"
      }
    },
    {
      "cell_type": "markdown",
      "source": [
        "* \"from\" จะให้กำหนดเป้าหมายในการดึง module ออกมา\n",
        "* \"import\" เป็นนำเข้า model เข้ามา\n",
        "* \"as\" เป็นการตั้งชื่อเล่น เพื่อจะเรียกให้ง่ายขึ้น\n",
        "\n",
        "\n",
        "``` python\n",
        "import sklearn as sk\n",
        "from sklearn.model_selection import train_test_split as tt\n",
        "```\n",
        "\n"
      ],
      "metadata": {
        "id": "xFLN_5RHIqnf"
      }
    },
    {
      "cell_type": "code",
      "execution_count": null,
      "metadata": {
        "colab": {
          "base_uri": "https://localhost:8080/"
        },
        "id": "BXYTBqa2zPHZ",
        "outputId": "1c21622f-65ca-4a29-9bda-c67e1b415d9f"
      },
      "outputs": [
        {
          "output_type": "execute_result",
          "data": {
            "text/plain": [
              "((150, 4), (150,))"
            ]
          },
          "metadata": {},
          "execution_count": 5
        }
      ],
      "source": [
        "import numpy as np\n",
        "from sklearn.model_selection import train_test_split\n",
        "from sklearn import datasets\n",
        "from sklearn import svm\n",
        "\n",
        "X, y = datasets.load_iris(return_X_y=True)\n",
        "X.shape, y.shape"
      ]
    },
    {
      "cell_type": "code",
      "execution_count": null,
      "metadata": {
        "id": "rQUMh_blzPHb"
      },
      "outputs": [],
      "source": [
        "X_train, X_test, y_train, y_test = train_test_split(X, y, test_size=0.3, random_state=None)\n"
      ]
    },
    {
      "cell_type": "code",
      "source": [
        "X_train.shape, y_train.shape, X_test.shape, y_test.shape"
      ],
      "metadata": {
        "colab": {
          "base_uri": "https://localhost:8080/"
        },
        "id": "MXA2OdkRLMDy",
        "outputId": "c7b0c01d-1afa-4521-febf-cc92c28cfc94"
      },
      "execution_count": null,
      "outputs": [
        {
          "output_type": "execute_result",
          "data": {
            "text/plain": [
              "((105, 4), (105,), (45, 4), (45,))"
            ]
          },
          "metadata": {},
          "execution_count": 7
        }
      ]
    },
    {
      "cell_type": "code",
      "source": [
        "clf = svm.SVC(kernel='linear', C=1).fit(X_train, y_train)\n",
        "Acc = clf.score(X_test, y_test)\n",
        "\n",
        "print('size X_train: ', X_train.shape)\n",
        "print('size X_test: ', X_test.shape)\n",
        "print('Acc: %.4f' % Acc )"
      ],
      "metadata": {
        "colab": {
          "base_uri": "https://localhost:8080/"
        },
        "id": "xRFlVqt6LOsu",
        "outputId": "be108fd4-27cd-4164-f27b-4a8fe1eab752"
      },
      "execution_count": null,
      "outputs": [
        {
          "output_type": "stream",
          "name": "stdout",
          "text": [
            "size X_train:  (105, 4)\n",
            "size X_test:  (45, 4)\n",
            "Acc: 1.0000\n"
          ]
        }
      ]
    },
    {
      "cell_type": "code",
      "source": [],
      "metadata": {
        "id": "KUOz0Lz4NG2V"
      },
      "execution_count": null,
      "outputs": []
    },
    {
      "cell_type": "code",
      "source": [],
      "metadata": {
        "id": "KJO7U7CRNGzd"
      },
      "execution_count": null,
      "outputs": []
    },
    {
      "cell_type": "code",
      "source": [],
      "metadata": {
        "id": "EWirRVYjNGwF"
      },
      "execution_count": null,
      "outputs": []
    },
    {
      "cell_type": "code",
      "source": [],
      "metadata": {
        "id": "2_zOFb3pNGsg"
      },
      "execution_count": null,
      "outputs": []
    },
    {
      "cell_type": "markdown",
      "source": [
        "#### ผลกระทบของการ random state และขนาดของการแบ่งข้อมูล"
      ],
      "metadata": {
        "id": "BJxtRn5dNHcj"
      }
    },
    {
      "cell_type": "code",
      "source": [
        "n = 10\n",
        "size = 0.1\n",
        "X_train, X_test, y_train, y_test = train_test_split(X, y, test_size = size, random_state=None)\n",
        "print('size X_train: ', X_train.shape)\n",
        "print('size X_test: ', X_test.shape)\n",
        "for i in range(1,n):\n",
        "  X_train, X_test, y_train, y_test = train_test_split(X, y, test_size = size, random_state=None)\n",
        "  clf = svm.SVC(kernel='linear', C=1).fit(X_train, y_train)\n",
        "  Acc = clf.score(X_test, y_test)\n",
        "  print('Acc: %.4f' % Acc )\n"
      ],
      "metadata": {
        "colab": {
          "base_uri": "https://localhost:8080/"
        },
        "id": "WeMxKmlFL0Gl",
        "outputId": "eb429d1d-d014-4bdf-a289-10343ea0c04e"
      },
      "execution_count": null,
      "outputs": [
        {
          "output_type": "stream",
          "name": "stdout",
          "text": [
            "size X_train:  (135, 4)\n",
            "size X_test:  (15, 4)\n",
            "Acc: 0.9333\n",
            "Acc: 1.0000\n",
            "Acc: 0.9333\n",
            "Acc: 0.8667\n",
            "Acc: 1.0000\n",
            "Acc: 0.9333\n",
            "Acc: 0.9333\n",
            "Acc: 1.0000\n",
            "Acc: 1.0000\n"
          ]
        }
      ]
    },
    {
      "cell_type": "markdown",
      "metadata": {
        "collapsed": false,
        "id": "KRdK6EfJzPHc"
      },
      "source": [
        "#### ทดลอง\n",
        "ทดลองปรับค่า  test_size ไปเป็น ค่าอื่น เช่น 0.3, 0.2, 0.1 และทดลองปรับค่า random_state = None'"
      ]
    },
    {
      "cell_type": "code",
      "execution_count": null,
      "metadata": {
        "id": "hLpZDArTzPHc"
      },
      "outputs": [],
      "source": []
    },
    {
      "cell_type": "code",
      "source": [],
      "metadata": {
        "id": "gtUE85LUN-h5"
      },
      "execution_count": null,
      "outputs": []
    },
    {
      "cell_type": "code",
      "source": [],
      "metadata": {
        "id": "7-lynB6FN-eT"
      },
      "execution_count": null,
      "outputs": []
    },
    {
      "cell_type": "code",
      "source": [],
      "metadata": {
        "id": "127c5jRVN-aq"
      },
      "execution_count": null,
      "outputs": []
    },
    {
      "cell_type": "markdown",
      "metadata": {
        "collapsed": false,
        "id": "N7iEThzxzPHc"
      },
      "source": []
    },
    {
      "cell_type": "markdown",
      "metadata": {
        "collapsed": false,
        "id": "lLzWIe2BzPHd"
      },
      "source": []
    },
    {
      "cell_type": "markdown",
      "metadata": {
        "collapsed": false,
        "id": "43Su1-aYzPHd"
      },
      "source": [
        "### 7.1.2 Cross\\-Validation Method\n",
        "\n"
      ]
    },
    {
      "cell_type": "markdown",
      "metadata": {
        "collapsed": false,
        "id": "Fd4WuCEwzPHd"
      },
      "source": [
        "![](https://www.section.io/engineering-education/how-to-implement-k-fold-cross-validation/5-fold-cv.jpeg)\n"
      ]
    },
    {
      "cell_type": "markdown",
      "source": [
        "Theory\n",
        "\n",
        "https://scikit-learn.org/stable/modules/cross_validation.html#cross-validation\n",
        "\n",
        "Library\n",
        "\n",
        "https://scikit-learn.org/stable/modules/generated/sklearn.model_selection.cross_val_score.html\n"
      ],
      "metadata": {
        "id": "7z9t_RW6P4IG"
      }
    },
    {
      "cell_type": "markdown",
      "source": [
        "\n",
        "\n",
        "``` python\n",
        "from sklearn.model_selection import cross_val_score\n",
        "scores = cross_val_score(modelObject, X, y, cv= 5, scoring = 'f1_macro')\n",
        "```\n",
        "\n"
      ],
      "metadata": {
        "id": "2y2eH4y8PhBM"
      }
    },
    {
      "cell_type": "markdown",
      "source": [
        "ตัวแปรแบบที่สำคัญ\n",
        "* modelObject คือตัว object ของ model ที่จะใช้ในการประเมิน\n",
        "* X,y คือชุดข้อมูลที่จะทำการประเมิน\n",
        "* cv คือจำนวนการแบ่งข้อมูลที่จะทำการ cross validation\n",
        "* scoring คือค่าการวัดที่จะทำการตรวจสอบด้วย cross validatoin โดยสามารถดูได้จาก  https://scikit-learn.org/stable/modules/model_evaluation.html#scoring-parameter"
      ],
      "metadata": {
        "id": "uQ33q8ByR_cV"
      }
    },
    {
      "cell_type": "markdown",
      "source": [
        "### Example 3"
      ],
      "metadata": {
        "id": "NNVBUs-7TNbr"
      }
    },
    {
      "cell_type": "code",
      "execution_count": null,
      "metadata": {
        "id": "YDXNoX8gzPHd"
      },
      "outputs": [],
      "source": [
        "from sklearn.model_selection import cross_val_score\n",
        "clf = svm.SVC(kernel='linear', C=1, random_state=42)\n"
      ]
    },
    {
      "cell_type": "code",
      "source": [
        "scores = cross_val_score(clf, X, y, cv=5)\n",
        "scores"
      ],
      "metadata": {
        "colab": {
          "base_uri": "https://localhost:8080/"
        },
        "id": "MHoA3eNvTZ2N",
        "outputId": "a45d9317-e297-4c10-e525-bf18bd1db855"
      },
      "execution_count": null,
      "outputs": [
        {
          "output_type": "execute_result",
          "data": {
            "text/plain": [
              "array([0.96666667, 1.        , 0.96666667, 0.96666667, 1.        ])"
            ]
          },
          "metadata": {},
          "execution_count": 11
        }
      ]
    },
    {
      "cell_type": "code",
      "execution_count": null,
      "metadata": {
        "colab": {
          "base_uri": "https://localhost:8080/"
        },
        "id": "A81SZmBGzPHe",
        "outputId": "4006a5b6-4ab9-4a7a-ddb7-06929da85f72"
      },
      "outputs": [
        {
          "output_type": "stream",
          "name": "stdout",
          "text": [
            "0.98 accuracy with a standard deviation of 0.02\n"
          ]
        }
      ],
      "source": [
        "print(\"%0.2f accuracy with a standard deviation of %0.2f\" % (scores.mean(), scores.std()))"
      ]
    },
    {
      "cell_type": "code",
      "source": [],
      "metadata": {
        "id": "QVEKfI3cUKWW"
      },
      "execution_count": null,
      "outputs": []
    },
    {
      "cell_type": "code",
      "source": [],
      "metadata": {
        "id": "GISU4cYjUKSy"
      },
      "execution_count": null,
      "outputs": []
    },
    {
      "cell_type": "code",
      "source": [],
      "metadata": {
        "id": "kHQOeM6VUKPY"
      },
      "execution_count": null,
      "outputs": []
    },
    {
      "cell_type": "markdown",
      "source": [
        "ทดลองเปลี่ยนค่า scoring"
      ],
      "metadata": {
        "id": "Q71kPwUSUMn9"
      }
    },
    {
      "cell_type": "code",
      "execution_count": null,
      "metadata": {
        "colab": {
          "base_uri": "https://localhost:8080/"
        },
        "id": "1cW-pATFzPHe",
        "outputId": "99223945-eff4-4328-8d50-07f2f303f0fc"
      },
      "outputs": [
        {
          "output_type": "execute_result",
          "data": {
            "text/plain": [
              "array([0.96658312, 1.        , 0.96658312, 0.96658312, 1.        ])"
            ]
          },
          "metadata": {},
          "execution_count": 13
        }
      ],
      "source": [
        "scores = cross_val_score(clf, X, y, cv=5, scoring='f1_macro')  # defined the score types\n",
        "scores"
      ]
    },
    {
      "cell_type": "markdown",
      "metadata": {
        "collapsed": false,
        "id": "sjlnMdDJzPHe"
      },
      "source": [
        "#### ทดลอง\n",
        "ทดลองปรับค่า fold  (cv) ไปเป็น 10 fold ให้  score เป็น ‘precision’  แบบ  micro average แล้วทำการวัดผลอีกครั้ง\n",
        "\n",
        "https://scikit-learn.org/stable/modules/model_evaluation.html#scoring-parameter"
      ]
    },
    {
      "cell_type": "code",
      "source": [],
      "metadata": {
        "id": "ddImB4g_UYm-"
      },
      "execution_count": null,
      "outputs": []
    },
    {
      "cell_type": "code",
      "source": [],
      "metadata": {
        "id": "U9VSPlBhUZdz"
      },
      "execution_count": null,
      "outputs": []
    },
    {
      "cell_type": "code",
      "execution_count": null,
      "metadata": {
        "id": "omAGEncKzPHe"
      },
      "outputs": [],
      "source": [
        "\n"
      ]
    },
    {
      "cell_type": "markdown",
      "metadata": {
        "collapsed": false,
        "id": "olxSQiEozPHf"
      },
      "source": [
        "โดยหลักการแล้วนั้น  Cross\\-Validation จะให้ความน่าเชื่อถือมากกว่าการใช้ Hold\\-Out Method  ส่วนวิธีการ Hold\\-Out Method ก็จะมีข้อดีในเรื่องของความเร็วในการประมวลผล โดยส่วนใหญ่แล้วถ้าการทดสอบไหนที่แบบจำลองมีขนาดใหญ่ หรือปริมาณข้อมูลขนาดใหญ่เราจะนิยมใช้เป็น Hold\\-Out Method เช่นงานทางด้าน image processing และ  NLP เป็นต้น  ส่วนการทดลองใดที่สามารถทำได้เร็วก็จะนิยมทำด้วยวิธี Cross\\-Validation\n",
        "\n"
      ]
    },
    {
      "cell_type": "code",
      "execution_count": null,
      "metadata": {
        "id": "0t0lcfNGzPHf"
      },
      "outputs": [],
      "source": []
    },
    {
      "cell_type": "markdown",
      "metadata": {
        "collapsed": false,
        "id": "TVJKkfXDzPHf"
      },
      "source": []
    },
    {
      "cell_type": "markdown",
      "metadata": {
        "collapsed": false,
        "id": "fXokooRqzPHf"
      },
      "source": [
        "## 7.2 Model Selection"
      ]
    },
    {
      "cell_type": "markdown",
      "metadata": {
        "collapsed": false,
        "id": "DDOg2Lo6zPHf"
      },
      "source": [
        "ในข้อมูลชุดหนึ่งนั้นเราสามารถที่จะสร้างแบบจำลองได้หลายประเภท โดยในแต่ละประเภทเราสามารถสร้างแบบจำลองที่แตกต่างด้วยการปรับพารามิเตอร์ที่เกี่ยวข้องให้แตกต่างกันออกไป สิ่งที่ได้ก็คือเราจะได้โมเดลที่มีประสิทธิภาพแตกต่างกันหลังจากนั้นเราจะเลือกเอาโมเดลที่มีประสิทธิภาพมากที่สุดไปใช้งาน\n",
        "\n",
        "Hyperparameter Turing หมายถึงกระบวนการปรับพารามิเตอร์ที่เกี่ยวข้องเพื่อให้ได้ประสิทธิภาพมากที่สุด โดยจะต้องมีการทดสอบพารามิเตอร์ที่แตกต่างกันแล้วเอาค่าที่ดีที่สุดไปใช้งาน\n",
        "\n",
        "https://scikit-learn.org/stable/modules/grid_search.html\n",
        "\n",
        "การเลือกแบบจำลองนอกจากจะเลือกจากแบบจำลองชนิดเดียวกันแล้วเรายังจะต้องเปรียบเทียบแบบจำลองที่เป็นคนละชนิดกันโดยจะเปรียบเทียบแบบจำลองที่แตกต่างกันที่มีการเลือกพารามิเตอร์ที่ดีที่สุดออกมาแล้ว"
      ]
    },
    {
      "cell_type": "markdown",
      "source": [
        "Theory\n",
        "\n",
        "https://scikit-learn.org/stable/modules/grid_search.html#grid-search\n",
        "\n",
        "\n",
        "Library\n",
        "\n",
        "https://scikit-learn.org/stable/modules/generated/sklearn.model_selection.GridSearchCV.html#sklearn.model_selection.GridSearchCV\n",
        "\n"
      ],
      "metadata": {
        "id": "KqDJ42IXaiGu"
      }
    },
    {
      "cell_type": "markdown",
      "source": [
        "\n",
        "\n",
        "```python\n",
        "from sklearn.model_selection import GridSearchCV\n",
        "gridSearch = GridSearchCV(modelObject, parameters, cv = 5)\n",
        "gridSearch.fit(X, y)\n",
        "\n",
        "```\n",
        "\n"
      ],
      "metadata": {
        "id": "gFGo489qWa3s"
      }
    },
    {
      "cell_type": "markdown",
      "source": [
        "| Method | Description |\n",
        "| :------------ | :---------------------------------------------------------- |\n",
        "| fit\\(X, y \\) | Fit the model according to the given training data. |\n"
      ],
      "metadata": {
        "id": "OQEH_dKJYToB"
      }
    },
    {
      "cell_type": "markdown",
      "source": [
        "ตัวแปรแบบที่สำคัญ\n",
        "* modelObject คือตัว object ของ model ที่จะใช้ในการประเมิน\n",
        "* X,y คือชุดข้อมูลที่จะทำการประเมิน\n",
        "* cv คือจำนวนการแบ่งข้อมูลที่จะทำการ cross validation\n",
        "* scoring คือค่าการวัดที่จะทำการตรวจสอบด้วย cross\n",
        "* parameters เป็น dictionary ของตัวแปรที่จะนำไปทำการค้นหา"
      ],
      "metadata": {
        "id": "wDbn6lGUWamy"
      }
    },
    {
      "cell_type": "markdown",
      "metadata": {
        "collapsed": false,
        "id": "_PJTRKTWzPHf"
      },
      "source": [
        "### Example 4\n",
        "Grid Search Cross-Validation with Support Vector Machine"
      ]
    },
    {
      "cell_type": "code",
      "execution_count": null,
      "metadata": {
        "colab": {
          "base_uri": "https://localhost:8080/"
        },
        "id": "qRE12BoCzPHf",
        "outputId": "53f43a88-3878-4832-e7c5-0fe7ae56a31a"
      },
      "outputs": [
        {
          "output_type": "execute_result",
          "data": {
            "text/plain": [
              "['mean_fit_time',\n",
              " 'mean_score_time',\n",
              " 'mean_test_score',\n",
              " 'param_C',\n",
              " 'param_kernel',\n",
              " 'params',\n",
              " 'rank_test_score',\n",
              " 'split0_test_score',\n",
              " 'split1_test_score',\n",
              " 'split2_test_score',\n",
              " 'split3_test_score',\n",
              " 'split4_test_score',\n",
              " 'std_fit_time',\n",
              " 'std_score_time',\n",
              " 'std_test_score']"
            ]
          },
          "metadata": {},
          "execution_count": 14
        }
      ],
      "source": [
        "from sklearn import svm, datasets\n",
        "from sklearn.model_selection import GridSearchCV\n",
        "X,y = datasets.load_iris(return_X_y=True)\n",
        "\n",
        "parameters = {'kernel':['linear', 'rbf'], 'C':[1,2,3,4]}\n",
        "\n",
        "svc = svm.SVC()\n",
        "\n",
        "gS = GridSearchCV(svc, parameters, cv = 5, scoring =  None)\n",
        "gS.fit(X, y)\n",
        "sorted(gS.cv_results_.keys())"
      ]
    },
    {
      "cell_type": "code",
      "execution_count": null,
      "metadata": {
        "colab": {
          "base_uri": "https://localhost:8080/"
        },
        "id": "ta5IIM2kzPHg",
        "outputId": "c7d5a6c8-4c2f-4aee-fd9f-1732ec466ca2"
      },
      "outputs": [
        {
          "output_type": "execute_result",
          "data": {
            "text/plain": [
              "{'mean_fit_time': array([0.00111279, 0.00147591, 0.0008769 , 0.00093827, 0.00087729,\n",
              "        0.00094342, 0.0008781 , 0.00093684]),\n",
              " 'std_fit_time': array([2.46778437e-04, 8.15084586e-04, 3.59004867e-05, 1.54104740e-05,\n",
              "        1.06394499e-04, 2.55648762e-05, 7.94449916e-05, 6.95840216e-05]),\n",
              " 'mean_score_time': array([0.00079646, 0.00073051, 0.00061307, 0.00062919, 0.00059056,\n",
              "        0.00063424, 0.00064654, 0.00063992]),\n",
              " 'std_score_time': array([2.77789818e-04, 1.27950702e-04, 2.60016640e-05, 1.78352396e-05,\n",
              "        2.15248540e-05, 1.92002613e-05, 4.77674226e-05, 4.22169226e-05]),\n",
              " 'param_C': masked_array(data=[1, 1, 2, 2, 3, 3, 4, 4],\n",
              "              mask=[False, False, False, False, False, False, False, False],\n",
              "        fill_value='?',\n",
              "             dtype=object),\n",
              " 'param_kernel': masked_array(data=['linear', 'rbf', 'linear', 'rbf', 'linear', 'rbf',\n",
              "                    'linear', 'rbf'],\n",
              "              mask=[False, False, False, False, False, False, False, False],\n",
              "        fill_value='?',\n",
              "             dtype=object),\n",
              " 'params': [{'C': 1, 'kernel': 'linear'},\n",
              "  {'C': 1, 'kernel': 'rbf'},\n",
              "  {'C': 2, 'kernel': 'linear'},\n",
              "  {'C': 2, 'kernel': 'rbf'},\n",
              "  {'C': 3, 'kernel': 'linear'},\n",
              "  {'C': 3, 'kernel': 'rbf'},\n",
              "  {'C': 4, 'kernel': 'linear'},\n",
              "  {'C': 4, 'kernel': 'rbf'}],\n",
              " 'split0_test_score': array([0.96666667, 0.96666667, 0.96666667, 0.96666667, 0.96666667,\n",
              "        0.96666667, 0.96666667, 0.96666667]),\n",
              " 'split1_test_score': array([1.        , 0.96666667, 1.        , 1.        , 1.        ,\n",
              "        1.        , 1.        , 1.        ]),\n",
              " 'split2_test_score': array([0.96666667, 0.96666667, 0.96666667, 0.96666667, 0.93333333,\n",
              "        0.96666667, 0.93333333, 0.96666667]),\n",
              " 'split3_test_score': array([0.96666667, 0.93333333, 0.96666667, 0.96666667, 0.96666667,\n",
              "        0.96666667, 0.96666667, 0.96666667]),\n",
              " 'split4_test_score': array([1., 1., 1., 1., 1., 1., 1., 1.]),\n",
              " 'mean_test_score': array([0.98      , 0.96666667, 0.98      , 0.98      , 0.97333333,\n",
              "        0.98      , 0.97333333, 0.98      ]),\n",
              " 'std_test_score': array([0.01632993, 0.02108185, 0.01632993, 0.01632993, 0.02494438,\n",
              "        0.01632993, 0.02494438, 0.01632993]),\n",
              " 'rank_test_score': array([1, 8, 1, 1, 6, 1, 6, 1], dtype=int32)}"
            ]
          },
          "metadata": {},
          "execution_count": 15
        }
      ],
      "source": [
        "gS.cv_results_"
      ]
    },
    {
      "cell_type": "code",
      "source": [
        "gS.best_estimator_"
      ],
      "metadata": {
        "id": "JIyA81cfViDf",
        "colab": {
          "base_uri": "https://localhost:8080/",
          "height": 95
        },
        "outputId": "80bab647-71cc-4566-8006-1f278a545cb5"
      },
      "execution_count": null,
      "outputs": [
        {
          "output_type": "execute_result",
          "data": {
            "text/plain": [
              "SVC(C=1, kernel='linear')"
            ],
            "text/html": [
              "<style>#sk-container-id-1 {color: black;background-color: white;}#sk-container-id-1 pre{padding: 0;}#sk-container-id-1 div.sk-toggleable {background-color: white;}#sk-container-id-1 label.sk-toggleable__label {cursor: pointer;display: block;width: 100%;margin-bottom: 0;padding: 0.3em;box-sizing: border-box;text-align: center;}#sk-container-id-1 label.sk-toggleable__label-arrow:before {content: \"▸\";float: left;margin-right: 0.25em;color: #696969;}#sk-container-id-1 label.sk-toggleable__label-arrow:hover:before {color: black;}#sk-container-id-1 div.sk-estimator:hover label.sk-toggleable__label-arrow:before {color: black;}#sk-container-id-1 div.sk-toggleable__content {max-height: 0;max-width: 0;overflow: hidden;text-align: left;background-color: #f0f8ff;}#sk-container-id-1 div.sk-toggleable__content pre {margin: 0.2em;color: black;border-radius: 0.25em;background-color: #f0f8ff;}#sk-container-id-1 input.sk-toggleable__control:checked~div.sk-toggleable__content {max-height: 200px;max-width: 100%;overflow: auto;}#sk-container-id-1 input.sk-toggleable__control:checked~label.sk-toggleable__label-arrow:before {content: \"▾\";}#sk-container-id-1 div.sk-estimator input.sk-toggleable__control:checked~label.sk-toggleable__label {background-color: #d4ebff;}#sk-container-id-1 div.sk-label input.sk-toggleable__control:checked~label.sk-toggleable__label {background-color: #d4ebff;}#sk-container-id-1 input.sk-hidden--visually {border: 0;clip: rect(1px 1px 1px 1px);clip: rect(1px, 1px, 1px, 1px);height: 1px;margin: -1px;overflow: hidden;padding: 0;position: absolute;width: 1px;}#sk-container-id-1 div.sk-estimator {font-family: monospace;background-color: #f0f8ff;border: 1px dotted black;border-radius: 0.25em;box-sizing: border-box;margin-bottom: 0.5em;}#sk-container-id-1 div.sk-estimator:hover {background-color: #d4ebff;}#sk-container-id-1 div.sk-parallel-item::after {content: \"\";width: 100%;border-bottom: 1px solid gray;flex-grow: 1;}#sk-container-id-1 div.sk-label:hover label.sk-toggleable__label {background-color: #d4ebff;}#sk-container-id-1 div.sk-serial::before {content: \"\";position: absolute;border-left: 1px solid gray;box-sizing: border-box;top: 0;bottom: 0;left: 50%;z-index: 0;}#sk-container-id-1 div.sk-serial {display: flex;flex-direction: column;align-items: center;background-color: white;padding-right: 0.2em;padding-left: 0.2em;position: relative;}#sk-container-id-1 div.sk-item {position: relative;z-index: 1;}#sk-container-id-1 div.sk-parallel {display: flex;align-items: stretch;justify-content: center;background-color: white;position: relative;}#sk-container-id-1 div.sk-item::before, #sk-container-id-1 div.sk-parallel-item::before {content: \"\";position: absolute;border-left: 1px solid gray;box-sizing: border-box;top: 0;bottom: 0;left: 50%;z-index: -1;}#sk-container-id-1 div.sk-parallel-item {display: flex;flex-direction: column;z-index: 1;position: relative;background-color: white;}#sk-container-id-1 div.sk-parallel-item:first-child::after {align-self: flex-end;width: 50%;}#sk-container-id-1 div.sk-parallel-item:last-child::after {align-self: flex-start;width: 50%;}#sk-container-id-1 div.sk-parallel-item:only-child::after {width: 0;}#sk-container-id-1 div.sk-dashed-wrapped {border: 1px dashed gray;margin: 0 0.4em 0.5em 0.4em;box-sizing: border-box;padding-bottom: 0.4em;background-color: white;}#sk-container-id-1 div.sk-label label {font-family: monospace;font-weight: bold;display: inline-block;line-height: 1.2em;}#sk-container-id-1 div.sk-label-container {text-align: center;}#sk-container-id-1 div.sk-container {/* jupyter's `normalize.less` sets `[hidden] { display: none; }` but bootstrap.min.css set `[hidden] { display: none !important; }` so we also need the `!important` here to be able to override the default hidden behavior on the sphinx rendered scikit-learn.org. See: https://github.com/scikit-learn/scikit-learn/issues/21755 */display: inline-block !important;position: relative;}#sk-container-id-1 div.sk-text-repr-fallback {display: none;}</style><div id=\"sk-container-id-1\" class=\"sk-top-container\"><div class=\"sk-text-repr-fallback\"><pre>SVC(C=1, kernel=&#x27;linear&#x27;)</pre><b>In a Jupyter environment, please rerun this cell to show the HTML representation or trust the notebook. <br />On GitHub, the HTML representation is unable to render, please try loading this page with nbviewer.org.</b></div><div class=\"sk-container\" hidden><div class=\"sk-item\"><div class=\"sk-estimator sk-toggleable\"><input class=\"sk-toggleable__control sk-hidden--visually\" id=\"sk-estimator-id-1\" type=\"checkbox\" checked><label for=\"sk-estimator-id-1\" class=\"sk-toggleable__label sk-toggleable__label-arrow\">SVC</label><div class=\"sk-toggleable__content\"><pre>SVC(C=1, kernel=&#x27;linear&#x27;)</pre></div></div></div></div></div>"
            ]
          },
          "metadata": {},
          "execution_count": 16
        }
      ]
    },
    {
      "cell_type": "code",
      "source": [
        "gS.best_score_"
      ],
      "metadata": {
        "id": "uHCkGFBwVh-A",
        "colab": {
          "base_uri": "https://localhost:8080/"
        },
        "outputId": "5d0795d3-a5c3-451d-8436-d6922f9af750"
      },
      "execution_count": null,
      "outputs": [
        {
          "output_type": "execute_result",
          "data": {
            "text/plain": [
              "0.9800000000000001"
            ]
          },
          "metadata": {},
          "execution_count": 17
        }
      ]
    },
    {
      "cell_type": "code",
      "source": [
        "gS.best_params_"
      ],
      "metadata": {
        "id": "1djNo5VWVh6q",
        "colab": {
          "base_uri": "https://localhost:8080/"
        },
        "outputId": "722b4ad9-aaed-4ea1-bfe2-4a983262cf82"
      },
      "execution_count": null,
      "outputs": [
        {
          "output_type": "execute_result",
          "data": {
            "text/plain": [
              "{'C': 1, 'kernel': 'linear'}"
            ]
          },
          "metadata": {},
          "execution_count": 18
        }
      ]
    },
    {
      "cell_type": "code",
      "source": [
        "gS.best_estimator_.predict(X)"
      ],
      "metadata": {
        "id": "QdZXW5XJVh3R",
        "colab": {
          "base_uri": "https://localhost:8080/"
        },
        "outputId": "af5f1358-a7e6-4293-b142-2e89d01003aa"
      },
      "execution_count": null,
      "outputs": [
        {
          "output_type": "execute_result",
          "data": {
            "text/plain": [
              "array([0, 0, 0, 0, 0, 0, 0, 0, 0, 0, 0, 0, 0, 0, 0, 0, 0, 0, 0, 0, 0, 0,\n",
              "       0, 0, 0, 0, 0, 0, 0, 0, 0, 0, 0, 0, 0, 0, 0, 0, 0, 0, 0, 0, 0, 0,\n",
              "       0, 0, 0, 0, 0, 0, 1, 1, 1, 1, 1, 1, 1, 1, 1, 1, 1, 1, 1, 1, 1, 1,\n",
              "       1, 1, 1, 1, 1, 1, 1, 1, 1, 1, 1, 1, 1, 1, 1, 1, 1, 2, 1, 1, 1, 1,\n",
              "       1, 1, 1, 1, 1, 1, 1, 1, 1, 1, 1, 1, 2, 2, 2, 2, 2, 2, 2, 2, 2, 2,\n",
              "       2, 2, 2, 2, 2, 2, 2, 2, 2, 2, 2, 2, 2, 2, 2, 2, 2, 2, 2, 2, 2, 2,\n",
              "       2, 2, 2, 2, 2, 2, 2, 2, 2, 2, 2, 2, 2, 2, 2, 2, 2, 2])"
            ]
          },
          "metadata": {},
          "execution_count": 19
        }
      ]
    },
    {
      "cell_type": "code",
      "source": [
        "gS.best_estimator_.score(X,y)"
      ],
      "metadata": {
        "colab": {
          "base_uri": "https://localhost:8080/"
        },
        "id": "lZuDZyhu6eNZ",
        "outputId": "e390734d-0c76-4ca7-bff7-1ff7c3c17399"
      },
      "execution_count": null,
      "outputs": [
        {
          "output_type": "execute_result",
          "data": {
            "text/plain": [
              "0.9933333333333333"
            ]
          },
          "metadata": {},
          "execution_count": 20
        }
      ]
    },
    {
      "cell_type": "code",
      "execution_count": null,
      "metadata": {
        "id": "GghBOBqczPHg"
      },
      "outputs": [],
      "source": [
        "import matplotlib.pyplot as plt\n",
        "import numpy as np"
      ]
    },
    {
      "cell_type": "code",
      "execution_count": null,
      "metadata": {
        "colab": {
          "base_uri": "https://localhost:8080/",
          "height": 473
        },
        "id": "hhmQvW63zPHg",
        "outputId": "a17f8a46-7898-4199-814f-5e2dd8e9088e"
      },
      "outputs": [
        {
          "output_type": "execute_result",
          "data": {
            "text/plain": [
              "(0.9, 1.0)"
            ]
          },
          "metadata": {},
          "execution_count": 22
        },
        {
          "output_type": "display_data",
          "data": {
            "text/plain": [
              "<Figure size 640x480 with 1 Axes>"
            ],
            "image/png": "[encoded data removed]"
          },
          "metadata": {}
        }
      ],
      "source": [
        "plt.bar(np.arange(1,9), gS.cv_results_['mean_test_score'])\n",
        "plt.ylim(0.9, 1)"
      ]
    },
    {
      "cell_type": "markdown",
      "metadata": {
        "collapsed": false,
        "id": "znTvUA4hzPHh"
      },
      "source": []
    },
    {
      "cell_type": "code",
      "source": [],
      "metadata": {
        "id": "3dUT_Je8bQNM"
      },
      "execution_count": null,
      "outputs": []
    },
    {
      "cell_type": "markdown",
      "source": [
        "## Example 5"
      ],
      "metadata": {
        "id": "Y60PJgWe3-T1"
      }
    },
    {
      "cell_type": "markdown",
      "source": [
        "Grid Search Cross-Validation with Decision Tree Model"
      ],
      "metadata": {
        "id": "eekVxWsu4QZE"
      }
    },
    {
      "cell_type": "code",
      "execution_count": null,
      "metadata": {
        "id": "Y5lR7gyJzPHh"
      },
      "outputs": [],
      "source": [
        "from sklearn import datasets\n",
        "from sklearn.tree import DecisionTreeClassifier\n",
        "from sklearn.model_selection import GridSearchCV\n",
        "X,y = datasets.load_iris(return_X_y= True)\n"
      ]
    },
    {
      "cell_type": "code",
      "source": [
        "parameters = {'criterion':['gini', 'entropy', 'log_loss'], 'max_depth':[2,3,4,5,6,7,8,9,10]}\n",
        "mTree =  DecisionTreeClassifier()"
      ],
      "metadata": {
        "id": "wBUUfGd85Yw8"
      },
      "execution_count": null,
      "outputs": []
    },
    {
      "cell_type": "code",
      "source": [
        "gS = GridSearchCV(mTree, parameters, cv = 5)"
      ],
      "metadata": {
        "id": "ri12cyNV5iAB"
      },
      "execution_count": null,
      "outputs": []
    },
    {
      "cell_type": "code",
      "source": [
        "gS.fit(X,y)\n",
        "sorted(gS.cv_results_.keys())"
      ],
      "metadata": {
        "colab": {
          "base_uri": "https://localhost:8080/"
        },
        "id": "wRBnxGkM5dXY",
        "outputId": "d4b3eb2b-5def-40c1-b7cb-1a1635e61eb6"
      },
      "execution_count": null,
      "outputs": [
        {
          "output_type": "execute_result",
          "data": {
            "text/plain": [
              "['mean_fit_time',\n",
              " 'mean_score_time',\n",
              " 'mean_test_score',\n",
              " 'param_criterion',\n",
              " 'param_max_depth',\n",
              " 'params',\n",
              " 'rank_test_score',\n",
              " 'split0_test_score',\n",
              " 'split1_test_score',\n",
              " 'split2_test_score',\n",
              " 'split3_test_score',\n",
              " 'split4_test_score',\n",
              " 'std_fit_time',\n",
              " 'std_score_time',\n",
              " 'std_test_score']"
            ]
          },
          "metadata": {},
          "execution_count": 26
        }
      ]
    },
    {
      "cell_type": "code",
      "execution_count": null,
      "metadata": {
        "colab": {
          "base_uri": "https://localhost:8080/"
        },
        "id": "qcJdY8MZzPHh",
        "outputId": "9770dafd-6009-4d54-b943-a41a8b06a9e8"
      },
      "outputs": [
        {
          "output_type": "execute_result",
          "data": {
            "text/plain": [
              "array([0.93333333, 0.96      , 0.96666667, 0.96666667, 0.96      ,\n",
              "       0.96      , 0.96666667, 0.95333333, 0.96666667, 0.93333333,\n",
              "       0.96      , 0.95333333, 0.95333333, 0.96      , 0.95333333,\n",
              "       0.95333333, 0.96      , 0.95333333, 0.93333333, 0.96      ,\n",
              "       0.95333333, 0.95333333, 0.96      , 0.96      , 0.95333333,\n",
              "       0.96      , 0.95333333])"
            ]
          },
          "metadata": {},
          "execution_count": 27
        }
      ],
      "source": [
        "gS.cv_results_['mean_test_score']"
      ]
    },
    {
      "cell_type": "code",
      "execution_count": null,
      "metadata": {
        "colab": {
          "base_uri": "https://localhost:8080/"
        },
        "id": "FiDc0xJszPHi",
        "outputId": "798d1bcc-be1c-45cc-c6bf-12b403745a27"
      },
      "outputs": [
        {
          "output_type": "execute_result",
          "data": {
            "text/plain": [
              "[{'criterion': 'gini', 'max_depth': 2},\n",
              " {'criterion': 'gini', 'max_depth': 3},\n",
              " {'criterion': 'gini', 'max_depth': 4},\n",
              " {'criterion': 'gini', 'max_depth': 5},\n",
              " {'criterion': 'gini', 'max_depth': 6},\n",
              " {'criterion': 'gini', 'max_depth': 7},\n",
              " {'criterion': 'gini', 'max_depth': 8},\n",
              " {'criterion': 'gini', 'max_depth': 9},\n",
              " {'criterion': 'gini', 'max_depth': 10},\n",
              " {'criterion': 'entropy', 'max_depth': 2},\n",
              " {'criterion': 'entropy', 'max_depth': 3},\n",
              " {'criterion': 'entropy', 'max_depth': 4},\n",
              " {'criterion': 'entropy', 'max_depth': 5},\n",
              " {'criterion': 'entropy', 'max_depth': 6},\n",
              " {'criterion': 'entropy', 'max_depth': 7},\n",
              " {'criterion': 'entropy', 'max_depth': 8},\n",
              " {'criterion': 'entropy', 'max_depth': 9},\n",
              " {'criterion': 'entropy', 'max_depth': 10},\n",
              " {'criterion': 'log_loss', 'max_depth': 2},\n",
              " {'criterion': 'log_loss', 'max_depth': 3},\n",
              " {'criterion': 'log_loss', 'max_depth': 4},\n",
              " {'criterion': 'log_loss', 'max_depth': 5},\n",
              " {'criterion': 'log_loss', 'max_depth': 6},\n",
              " {'criterion': 'log_loss', 'max_depth': 7},\n",
              " {'criterion': 'log_loss', 'max_depth': 8},\n",
              " {'criterion': 'log_loss', 'max_depth': 9},\n",
              " {'criterion': 'log_loss', 'max_depth': 10}]"
            ]
          },
          "metadata": {},
          "execution_count": 28
        }
      ],
      "source": [
        "gS.cv_results_['params']"
      ]
    },
    {
      "cell_type": "code",
      "execution_count": null,
      "metadata": {
        "colab": {
          "base_uri": "https://localhost:8080/"
        },
        "id": "ef95sIOPzPHi",
        "outputId": "2272243a-0e7c-4f5b-d76a-ac1f58106bfd"
      },
      "outputs": [
        {
          "output_type": "execute_result",
          "data": {
            "text/plain": [
              "array([25, 12,  1,  1,  5,  5,  1, 15,  1, 25, 12, 15, 15,  5, 15, 15,  5,\n",
              "       15, 25, 12, 15, 15,  5,  5, 15,  5, 15], dtype=int32)"
            ]
          },
          "metadata": {},
          "execution_count": 29
        }
      ],
      "source": [
        "gS.cv_results_['rank_test_score']"
      ]
    },
    {
      "cell_type": "code",
      "execution_count": null,
      "metadata": {
        "colab": {
          "base_uri": "https://localhost:8080/",
          "height": 473
        },
        "id": "RzUwLJ1WzPHi",
        "outputId": "cc5c23d0-cbe0-4224-e780-e338c1ed51d2"
      },
      "outputs": [
        {
          "output_type": "execute_result",
          "data": {
            "text/plain": [
              "(0.9, 1.0)"
            ]
          },
          "metadata": {},
          "execution_count": 30
        },
        {
          "output_type": "display_data",
          "data": {
            "text/plain": [
              "<Figure size 640x480 with 1 Axes>"
            ],
            "image/png": "[encoded data removed]"
          },
          "metadata": {}
        }
      ],
      "source": [
        "import matplotlib.pyplot as plt\n",
        "plt.bar(np.arange(1,28), gS.cv_results_['mean_test_score'])\n",
        "plt.ylim(0.9, 1)"
      ]
    },
    {
      "cell_type": "code",
      "execution_count": null,
      "metadata": {
        "id": "xNFAmnoNzPHj",
        "colab": {
          "base_uri": "https://localhost:8080/",
          "height": 95
        },
        "outputId": "e2233702-7602-4714-cbd6-55bdbd5deee7"
      },
      "outputs": [
        {
          "output_type": "execute_result",
          "data": {
            "text/plain": [
              "DecisionTreeClassifier(max_depth=4)"
            ],
            "text/html": [
              "<style>#sk-container-id-2 {color: black;background-color: white;}#sk-container-id-2 pre{padding: 0;}#sk-container-id-2 div.sk-toggleable {background-color: white;}#sk-container-id-2 label.sk-toggleable__label {cursor: pointer;display: block;width: 100%;margin-bottom: 0;padding: 0.3em;box-sizing: border-box;text-align: center;}#sk-container-id-2 label.sk-toggleable__label-arrow:before {content: \"▸\";float: left;margin-right: 0.25em;color: #696969;}#sk-container-id-2 label.sk-toggleable__label-arrow:hover:before {color: black;}#sk-container-id-2 div.sk-estimator:hover label.sk-toggleable__label-arrow:before {color: black;}#sk-container-id-2 div.sk-toggleable__content {max-height: 0;max-width: 0;overflow: hidden;text-align: left;background-color: #f0f8ff;}#sk-container-id-2 div.sk-toggleable__content pre {margin: 0.2em;color: black;border-radius: 0.25em;background-color: #f0f8ff;}#sk-container-id-2 input.sk-toggleable__control:checked~div.sk-toggleable__content {max-height: 200px;max-width: 100%;overflow: auto;}#sk-container-id-2 input.sk-toggleable__control:checked~label.sk-toggleable__label-arrow:before {content: \"▾\";}#sk-container-id-2 div.sk-estimator input.sk-toggleable__control:checked~label.sk-toggleable__label {background-color: #d4ebff;}#sk-container-id-2 div.sk-label input.sk-toggleable__control:checked~label.sk-toggleable__label {background-color: #d4ebff;}#sk-container-id-2 input.sk-hidden--visually {border: 0;clip: rect(1px 1px 1px 1px);clip: rect(1px, 1px, 1px, 1px);height: 1px;margin: -1px;overflow: hidden;padding: 0;position: absolute;width: 1px;}#sk-container-id-2 div.sk-estimator {font-family: monospace;background-color: #f0f8ff;border: 1px dotted black;border-radius: 0.25em;box-sizing: border-box;margin-bottom: 0.5em;}#sk-container-id-2 div.sk-estimator:hover {background-color: #d4ebff;}#sk-container-id-2 div.sk-parallel-item::after {content: \"\";width: 100%;border-bottom: 1px solid gray;flex-grow: 1;}#sk-container-id-2 div.sk-label:hover label.sk-toggleable__label {background-color: #d4ebff;}#sk-container-id-2 div.sk-serial::before {content: \"\";position: absolute;border-left: 1px solid gray;box-sizing: border-box;top: 0;bottom: 0;left: 50%;z-index: 0;}#sk-container-id-2 div.sk-serial {display: flex;flex-direction: column;align-items: center;background-color: white;padding-right: 0.2em;padding-left: 0.2em;position: relative;}#sk-container-id-2 div.sk-item {position: relative;z-index: 1;}#sk-container-id-2 div.sk-parallel {display: flex;align-items: stretch;justify-content: center;background-color: white;position: relative;}#sk-container-id-2 div.sk-item::before, #sk-container-id-2 div.sk-parallel-item::before {content: \"\";position: absolute;border-left: 1px solid gray;box-sizing: border-box;top: 0;bottom: 0;left: 50%;z-index: -1;}#sk-container-id-2 div.sk-parallel-item {display: flex;flex-direction: column;z-index: 1;position: relative;background-color: white;}#sk-container-id-2 div.sk-parallel-item:first-child::after {align-self: flex-end;width: 50%;}#sk-container-id-2 div.sk-parallel-item:last-child::after {align-self: flex-start;width: 50%;}#sk-container-id-2 div.sk-parallel-item:only-child::after {width: 0;}#sk-container-id-2 div.sk-dashed-wrapped {border: 1px dashed gray;margin: 0 0.4em 0.5em 0.4em;box-sizing: border-box;padding-bottom: 0.4em;background-color: white;}#sk-container-id-2 div.sk-label label {font-family: monospace;font-weight: bold;display: inline-block;line-height: 1.2em;}#sk-container-id-2 div.sk-label-container {text-align: center;}#sk-container-id-2 div.sk-container {/* jupyter's `normalize.less` sets `[hidden] { display: none; }` but bootstrap.min.css set `[hidden] { display: none !important; }` so we also need the `!important` here to be able to override the default hidden behavior on the sphinx rendered scikit-learn.org. See: https://github.com/scikit-learn/scikit-learn/issues/21755 */display: inline-block !important;position: relative;}#sk-container-id-2 div.sk-text-repr-fallback {display: none;}</style><div id=\"sk-container-id-2\" class=\"sk-top-container\"><div class=\"sk-text-repr-fallback\"><pre>DecisionTreeClassifier(max_depth=4)</pre><b>In a Jupyter environment, please rerun this cell to show the HTML representation or trust the notebook. <br />On GitHub, the HTML representation is unable to render, please try loading this page with nbviewer.org.</b></div><div class=\"sk-container\" hidden><div class=\"sk-item\"><div class=\"sk-estimator sk-toggleable\"><input class=\"sk-toggleable__control sk-hidden--visually\" id=\"sk-estimator-id-2\" type=\"checkbox\" checked><label for=\"sk-estimator-id-2\" class=\"sk-toggleable__label sk-toggleable__label-arrow\">DecisionTreeClassifier</label><div class=\"sk-toggleable__content\"><pre>DecisionTreeClassifier(max_depth=4)</pre></div></div></div></div></div>"
            ]
          },
          "metadata": {},
          "execution_count": 31
        }
      ],
      "source": [
        "gS.best_estimator_"
      ]
    },
    {
      "cell_type": "code",
      "source": [
        "gS.best_params_"
      ],
      "metadata": {
        "colab": {
          "base_uri": "https://localhost:8080/"
        },
        "id": "H-rwbXnQ3azs",
        "outputId": "c245e131-c5a9-4f61-fe00-ef5dc3a3526f"
      },
      "execution_count": null,
      "outputs": [
        {
          "output_type": "execute_result",
          "data": {
            "text/plain": [
              "{'criterion': 'gini', 'max_depth': 4}"
            ]
          },
          "metadata": {},
          "execution_count": 32
        }
      ]
    },
    {
      "cell_type": "code",
      "source": [
        "gS.best_score_"
      ],
      "metadata": {
        "colab": {
          "base_uri": "https://localhost:8080/"
        },
        "id": "3pidshj_3igD",
        "outputId": "4be91629-cb81-461f-a349-90b71efe3004"
      },
      "execution_count": null,
      "outputs": [
        {
          "output_type": "execute_result",
          "data": {
            "text/plain": [
              "0.9666666666666668"
            ]
          },
          "metadata": {},
          "execution_count": 33
        }
      ]
    },
    {
      "cell_type": "code",
      "source": [
        "gS.best_estimator_.score(X,y)"
      ],
      "metadata": {
        "colab": {
          "base_uri": "https://localhost:8080/"
        },
        "id": "XwEwaC313jyR",
        "outputId": "19903644-6fc8-4983-8867-e6d3718ac61b"
      },
      "execution_count": null,
      "outputs": [
        {
          "output_type": "execute_result",
          "data": {
            "text/plain": [
              "0.9933333333333333"
            ]
          },
          "metadata": {},
          "execution_count": 34
        }
      ]
    },
    {
      "cell_type": "markdown",
      "metadata": {
        "collapsed": false,
        "id": "ZKt0Qt42zPHj"
      },
      "source": [
        "#### ตอบคำถาม\n",
        "จากการทดลองนี้ model ใดดีที่สุด"
      ]
    },
    {
      "cell_type": "code",
      "execution_count": null,
      "metadata": {
        "id": "qUTNTVsezPHj"
      },
      "outputs": [],
      "source": []
    },
    {
      "cell_type": "markdown",
      "metadata": {
        "collapsed": false,
        "id": "Jp9TdXu_zPHj"
      },
      "source": []
    },
    {
      "cell_type": "markdown",
      "metadata": {
        "collapsed": false,
        "id": "JnzfSIAhzPHj"
      },
      "source": []
    },
    {
      "cell_type": "markdown",
      "metadata": {
        "collapsed": false,
        "id": "x_u3Otv5zPHk"
      },
      "source": [
        "## Exercise 1"
      ]
    },
    {
      "cell_type": "code",
      "execution_count": null,
      "metadata": {
        "colab": {
          "base_uri": "https://localhost:8080/"
        },
        "id": "BkZvd3nHzPHk",
        "outputId": "93d8b9f8-8ec0-4ad7-82fc-4e6c5b3768b5"
      },
      "outputs": [
        {
          "output_type": "execute_result",
          "data": {
            "text/plain": [
              "((569, 30), (569,))"
            ]
          },
          "metadata": {},
          "execution_count": 35
        }
      ],
      "source": [
        "from sklearn import datasets\n",
        "from sklearn.model_selection import GridSearchCV\n",
        "\n",
        "X,y = datasets.load_breast_cancer(return_X_y=True)\n",
        "X.shape, y.shape"
      ]
    },
    {
      "cell_type": "code",
      "execution_count": null,
      "metadata": {
        "id": "8q1HjXORzPHl"
      },
      "outputs": [],
      "source": [
        "from sklearn.tree import DecisionTreeClassifier\n",
        "from sklearn.neural_network import MLPClassifier\n",
        "from sklearn.neighbors import KNeighborsClassifier\n",
        "from sklearn.svm import SVC\n",
        "from sklearn.model_selection import GridSearchCV"
      ]
    },
    {
      "cell_type": "code",
      "execution_count": null,
      "metadata": {
        "id": "RiFDwz6WzPHl"
      },
      "outputs": [],
      "source": [
        "mTR = DecisionTreeClassifier()\n",
        "mNN = MLPClassifier()\n",
        "mKNN = KNeighborsClassifier()\n",
        "mSVM = SVC()"
      ]
    },
    {
      "cell_type": "code",
      "execution_count": null,
      "metadata": {
        "id": "4qKQjRWVzPHl"
      },
      "outputs": [],
      "source": [
        "parTR = {'criterion':['gini', 'entropy'], 'max_depth':[2,3,4,5,6,7,8,9,10]}\n",
        "parSVM = {'kernel':['linear', 'rbf'], 'C':[1,2,3,4]}\n",
        "parNN = {'hidden_layer_sizes':[(10,),(20,),(30,),(40,)], 'max_iter': [1000]}\n",
        "parKNN = {'n_neighbors':[2,3,4,5]}"
      ]
    },
    {
      "cell_type": "code",
      "execution_count": null,
      "metadata": {
        "id": "UenK2GBIzPHl"
      },
      "outputs": [],
      "source": [
        "model = [mTR,mNN,mKNN,mSVM]\n",
        "para = [parTR,parNN,parKNN,parSVM]\n",
        "modelName = ['Decision Tree', 'Neural Network', 'KNN', 'SVM']"
      ]
    },
    {
      "cell_type": "code",
      "execution_count": null,
      "metadata": {
        "id": "cwgtbaHDzPHm"
      },
      "outputs": [],
      "source": [
        "m = 4\n",
        "gSA = [0]*m\n",
        "for i in range(0, m):\n",
        "    gSA[i] = GridSearchCV(model[i], para[i], cv = 5)\n",
        "    gSA[i].fit(X,y);\n"
      ]
    },
    {
      "cell_type": "code",
      "execution_count": null,
      "metadata": {
        "colab": {
          "base_uri": "https://localhost:8080/",
          "height": 1000
        },
        "id": "H0uK01L1zPHm",
        "outputId": "9f0d44fa-3139-4ab7-9b14-3768e5239b14"
      },
      "outputs": [
        {
          "output_type": "display_data",
          "data": {
            "text/plain": [
              "<Figure size 640x480 with 1 Axes>"
            ],
            "image/png": "[encoded data removed]"
          },
          "metadata": {}
        },
        {
          "output_type": "display_data",
          "data": {
            "text/plain": [
              "<Figure size 640x480 with 1 Axes>"
            ],
            "image/png": "[encoded data removed]"
          },
          "metadata": {}
        },
        {
          "output_type": "display_data",
          "data": {
            "text/plain": [
              "<Figure size 640x480 with 1 Axes>"
            ],
            "image/png": "[encoded data removed]"
          },
          "metadata": {}
        },
        {
          "output_type": "display_data",
          "data": {
            "text/plain": [
              "<Figure size 640x480 with 1 Axes>"
            ],
            "image/png": "[encoded data removed]"
          },
          "metadata": {}
        }
      ],
      "source": [
        "import matplotlib.pyplot as plt\n",
        "for i in range(0, m):\n",
        "    sample = len(gSA[i].cv_results_['mean_test_score'])\n",
        "    plt.bar(np.arange(0,sample), gSA[i].cv_results_['mean_test_score'])\n",
        "    plt.ylim(0.6, 1)\n",
        "    plt.title(modelName[i])\n",
        "    plt.show()"
      ]
    },
    {
      "cell_type": "code",
      "execution_count": null,
      "metadata": {
        "id": "A1sfmrmyzPHm",
        "colab": {
          "base_uri": "https://localhost:8080/"
        },
        "outputId": "c32f1e3b-dd5c-474e-bf26-914df79a28d0"
      },
      "outputs": [
        {
          "output_type": "stream",
          "name": "stdout",
          "text": [
            "0.9402577239559076\n",
            "0.9262071106970968\n",
            "0.9279459711224964\n",
            "0.952585002328831\n"
          ]
        }
      ],
      "source": [
        "for i in range(0, m):\n",
        "  print(gSA[i].best_score_)"
      ]
    },
    {
      "cell_type": "code",
      "source": [
        "m"
      ],
      "metadata": {
        "colab": {
          "base_uri": "https://localhost:8080/"
        },
        "id": "evnFXzKn7OYg",
        "outputId": "c278dbcb-06a4-4fea-cffb-72b8058dce3f"
      },
      "execution_count": null,
      "outputs": [
        {
          "output_type": "execute_result",
          "data": {
            "text/plain": [
              "4"
            ]
          },
          "metadata": {},
          "execution_count": 43
        }
      ]
    },
    {
      "cell_type": "code",
      "source": [],
      "metadata": {
        "id": "gm-EHZeG8wJF"
      },
      "execution_count": null,
      "outputs": []
    }
  ],
  "metadata": {
    "kernelspec": {
      "argv": [
        "/usr/bin/python3",
        "-m",
        "ipykernel",
        "--HistoryManager.enabled=False",
        "--matplotlib=inline",
        "-c",
        "%config InlineBackend.figure_formats = set(['retina'])\nimport matplotlib; matplotlib.rcParams['figure.figsize'] = (12, 7)",
        "-f",
        "{connection_file}"
      ],
      "display_name": "Python 3 (system-wide)",
      "env": {},
      "language": "python",
      "metadata": {
        "cocalc": {
          "description": "Python 3 programming language",
          "priority": 100,
          "url": "https://www.python.org/"
        }
      },
      "name": "python3",
      "resource_dir": "/ext/jupyter/kernels/python3"
    },
    "language_info": {
      "codemirror_mode": {
        "name": "ipython",
        "version": 3
      },
      "file_extension": ".py",
      "mimetype": "text/x-python",
      "name": "python",
      "nbconvert_exporter": "python",
      "pygments_lexer": "ipython3",
      "version": "3.10.12"
    },
    "colab": {
      "provenance": [],
      "include_colab_link": true
    }
  },
  "nbformat": 4,
  "nbformat_minor": 0
}